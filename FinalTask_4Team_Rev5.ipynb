{
  "nbformat": 4,
  "nbformat_minor": 0,
  "metadata": {
    "kernelspec": {
      "display_name": "Python 3",
      "language": "python",
      "name": "python3"
    },
    "language_info": {
      "codemirror_mode": {
        "name": "ipython",
        "version": 3
      },
      "file_extension": ".py",
      "mimetype": "text/x-python",
      "name": "python",
      "nbconvert_exporter": "python",
      "pygments_lexer": "ipython3",
      "version": "3.8.5"
    },
    "colab": {
      "name": "FinalTask_4Team_Rev2.ipynb",
      "provenance": []
    }
  },
  "cells": [
    {
      "cell_type": "code",
      "metadata": {
        "id": "dIErL4bB3Cfq"
      },
      "source": [
        "import numpy as np\n",
        "import pandas as pd\n",
        "import matplotlib.pyplot as plt\n",
        "%matplotlib inline\n",
        "%config InlineBackend.figure_format = 'retina'"
      ],
      "execution_count": 24,
      "outputs": []
    },
    {
      "cell_type": "code",
      "metadata": {
        "id": "AG7I7NEe3Cfs",
        "colab": {
          "base_uri": "https://localhost:8080/"
        },
        "outputId": "2f929961-c815-4c36-e5ff-f36dd6864d21"
      },
      "source": [
        "#data = pd.read_excel(\"D:\\MAGVI_500RT_RawData.xlsx\")\n",
        "url = \"https://github.com/dklim77/MechLearnEdu/blob/master/MAGVI_500RT_RawData.xlsx?raw=true\"\n",
        "data = pd.read_excel(url)\n",
        "data.info()"
      ],
      "execution_count": 25,
      "outputs": [
        {
          "output_type": "stream",
          "text": [
            "<class 'pandas.core.frame.DataFrame'>\n",
            "RangeIndex: 1524 entries, 0 to 1523\n",
            "Data columns (total 17 columns):\n",
            " #   Column              Non-Null Count  Dtype  \n",
            "---  ------              --------------  -----  \n",
            " 0   No                  1524 non-null   int64  \n",
            " 1   EvaporatingTemp     1524 non-null   float64\n",
            " 2   CondensingTemp      1524 non-null   float64\n",
            " 3   IGVOpening          1524 non-null   int64  \n",
            " 4   HotGasFraction      1524 non-null   int64  \n",
            " 5   RPM                 1524 non-null   int64  \n",
            " 6   Capacity            1524 non-null   float64\n",
            " 7   InputPower          1524 non-null   float64\n",
            " 8   FirstTopHead        1524 non-null   float64\n",
            " 9   SecondTopHead       1524 non-null   float64\n",
            " 10  1stCompHead         1524 non-null   float64\n",
            " 11  2ndCompHead         1524 non-null   float64\n",
            " 12  TotalHead           1524 non-null   float64\n",
            " 13  1stCompSurgeMargin  1524 non-null   float64\n",
            " 14  2ndCompSurgeMargin  1524 non-null   float64\n",
            " 15  VFR_1st             1524 non-null   float64\n",
            " 16  VFR_2nd             1524 non-null   float64\n",
            "dtypes: float64(13), int64(4)\n",
            "memory usage: 202.5 KB\n"
          ],
          "name": "stdout"
        }
      ]
    },
    {
      "cell_type": "code",
      "metadata": {
        "id": "XG2Z909k3Cft",
        "colab": {
          "base_uri": "https://localhost:8080/",
          "height": 245
        },
        "outputId": "5e3cb764-27f4-453b-d4b7-a6a95a63248d"
      },
      "source": [
        "print(data.shape)\n",
        "data[:5]"
      ],
      "execution_count": 26,
      "outputs": [
        {
          "output_type": "stream",
          "text": [
            "(1524, 17)\n"
          ],
          "name": "stdout"
        },
        {
          "output_type": "execute_result",
          "data": {
            "text/html": [
              "<div>\n",
              "<style scoped>\n",
              "    .dataframe tbody tr th:only-of-type {\n",
              "        vertical-align: middle;\n",
              "    }\n",
              "\n",
              "    .dataframe tbody tr th {\n",
              "        vertical-align: top;\n",
              "    }\n",
              "\n",
              "    .dataframe thead th {\n",
              "        text-align: right;\n",
              "    }\n",
              "</style>\n",
              "<table border=\"1\" class=\"dataframe\">\n",
              "  <thead>\n",
              "    <tr style=\"text-align: right;\">\n",
              "      <th></th>\n",
              "      <th>No</th>\n",
              "      <th>EvaporatingTemp</th>\n",
              "      <th>CondensingTemp</th>\n",
              "      <th>IGVOpening</th>\n",
              "      <th>HotGasFraction</th>\n",
              "      <th>RPM</th>\n",
              "      <th>Capacity</th>\n",
              "      <th>InputPower</th>\n",
              "      <th>FirstTopHead</th>\n",
              "      <th>SecondTopHead</th>\n",
              "      <th>1stCompHead</th>\n",
              "      <th>2ndCompHead</th>\n",
              "      <th>TotalHead</th>\n",
              "      <th>1stCompSurgeMargin</th>\n",
              "      <th>2ndCompSurgeMargin</th>\n",
              "      <th>VFR_1st</th>\n",
              "      <th>VFR_2nd</th>\n",
              "    </tr>\n",
              "  </thead>\n",
              "  <tbody>\n",
              "    <tr>\n",
              "      <th>0</th>\n",
              "      <td>2</td>\n",
              "      <td>2.0</td>\n",
              "      <td>19.0</td>\n",
              "      <td>80</td>\n",
              "      <td>0</td>\n",
              "      <td>15001</td>\n",
              "      <td>543.8</td>\n",
              "      <td>274.61</td>\n",
              "      <td>1664.8</td>\n",
              "      <td>1155.8</td>\n",
              "      <td>1072.7</td>\n",
              "      <td>136.3</td>\n",
              "      <td>1209.0</td>\n",
              "      <td>592.1</td>\n",
              "      <td>1019.5</td>\n",
              "      <td>0.7060</td>\n",
              "      <td>0.4532</td>\n",
              "    </tr>\n",
              "    <tr>\n",
              "      <th>1</th>\n",
              "      <td>3</td>\n",
              "      <td>2.0</td>\n",
              "      <td>19.0</td>\n",
              "      <td>60</td>\n",
              "      <td>0</td>\n",
              "      <td>15001</td>\n",
              "      <td>479.5</td>\n",
              "      <td>224.12</td>\n",
              "      <td>1585.0</td>\n",
              "      <td>1100.4</td>\n",
              "      <td>1016.9</td>\n",
              "      <td>192.4</td>\n",
              "      <td>1209.4</td>\n",
              "      <td>568.1</td>\n",
              "      <td>907.9</td>\n",
              "      <td>0.6183</td>\n",
              "      <td>0.4088</td>\n",
              "    </tr>\n",
              "    <tr>\n",
              "      <th>2</th>\n",
              "      <td>4</td>\n",
              "      <td>2.0</td>\n",
              "      <td>19.0</td>\n",
              "      <td>40</td>\n",
              "      <td>0</td>\n",
              "      <td>15001</td>\n",
              "      <td>389.1</td>\n",
              "      <td>186.39</td>\n",
              "      <td>1550.7</td>\n",
              "      <td>1077.4</td>\n",
              "      <td>979.7</td>\n",
              "      <td>234.1</td>\n",
              "      <td>1213.8</td>\n",
              "      <td>571.0</td>\n",
              "      <td>843.3</td>\n",
              "      <td>0.4995</td>\n",
              "      <td>0.3392</td>\n",
              "    </tr>\n",
              "    <tr>\n",
              "      <th>3</th>\n",
              "      <td>5</td>\n",
              "      <td>2.0</td>\n",
              "      <td>19.0</td>\n",
              "      <td>20</td>\n",
              "      <td>0</td>\n",
              "      <td>15001</td>\n",
              "      <td>254.7</td>\n",
              "      <td>146.55</td>\n",
              "      <td>1512.2</td>\n",
              "      <td>1053.8</td>\n",
              "      <td>931.7</td>\n",
              "      <td>300.5</td>\n",
              "      <td>1232.1</td>\n",
              "      <td>580.5</td>\n",
              "      <td>753.4</td>\n",
              "      <td>0.3253</td>\n",
              "      <td>0.2330</td>\n",
              "    </tr>\n",
              "    <tr>\n",
              "      <th>4</th>\n",
              "      <td>6</td>\n",
              "      <td>2.0</td>\n",
              "      <td>19.0</td>\n",
              "      <td>0</td>\n",
              "      <td>0</td>\n",
              "      <td>15001</td>\n",
              "      <td>58.3</td>\n",
              "      <td>94.05</td>\n",
              "      <td>1095.8</td>\n",
              "      <td>771.2</td>\n",
              "      <td>1060.0</td>\n",
              "      <td>292.3</td>\n",
              "      <td>1352.3</td>\n",
              "      <td>35.8</td>\n",
              "      <td>478.9</td>\n",
              "      <td>0.0760</td>\n",
              "      <td>0.0606</td>\n",
              "    </tr>\n",
              "  </tbody>\n",
              "</table>\n",
              "</div>"
            ],
            "text/plain": [
              "   No  EvaporatingTemp  CondensingTemp  ...  2ndCompSurgeMargin  VFR_1st  VFR_2nd\n",
              "0   2              2.0            19.0  ...              1019.5   0.7060   0.4532\n",
              "1   3              2.0            19.0  ...               907.9   0.6183   0.4088\n",
              "2   4              2.0            19.0  ...               843.3   0.4995   0.3392\n",
              "3   5              2.0            19.0  ...               753.4   0.3253   0.2330\n",
              "4   6              2.0            19.0  ...               478.9   0.0760   0.0606\n",
              "\n",
              "[5 rows x 17 columns]"
            ]
          },
          "metadata": {
            "tags": []
          },
          "execution_count": 26
        }
      ]
    },
    {
      "cell_type": "code",
      "metadata": {
        "id": "rNX4LoyP3Cfu",
        "colab": {
          "base_uri": "https://localhost:8080/",
          "height": 163
        },
        "outputId": "a9559671-7450-429e-b651-f8f173564f50"
      },
      "source": [
        "# 사본 사용 (원본 백업)\n",
        "df = data.copy()\n",
        "df[:3]"
      ],
      "execution_count": 27,
      "outputs": [
        {
          "output_type": "execute_result",
          "data": {
            "text/html": [
              "<div>\n",
              "<style scoped>\n",
              "    .dataframe tbody tr th:only-of-type {\n",
              "        vertical-align: middle;\n",
              "    }\n",
              "\n",
              "    .dataframe tbody tr th {\n",
              "        vertical-align: top;\n",
              "    }\n",
              "\n",
              "    .dataframe thead th {\n",
              "        text-align: right;\n",
              "    }\n",
              "</style>\n",
              "<table border=\"1\" class=\"dataframe\">\n",
              "  <thead>\n",
              "    <tr style=\"text-align: right;\">\n",
              "      <th></th>\n",
              "      <th>No</th>\n",
              "      <th>EvaporatingTemp</th>\n",
              "      <th>CondensingTemp</th>\n",
              "      <th>IGVOpening</th>\n",
              "      <th>HotGasFraction</th>\n",
              "      <th>RPM</th>\n",
              "      <th>Capacity</th>\n",
              "      <th>InputPower</th>\n",
              "      <th>FirstTopHead</th>\n",
              "      <th>SecondTopHead</th>\n",
              "      <th>1stCompHead</th>\n",
              "      <th>2ndCompHead</th>\n",
              "      <th>TotalHead</th>\n",
              "      <th>1stCompSurgeMargin</th>\n",
              "      <th>2ndCompSurgeMargin</th>\n",
              "      <th>VFR_1st</th>\n",
              "      <th>VFR_2nd</th>\n",
              "    </tr>\n",
              "  </thead>\n",
              "  <tbody>\n",
              "    <tr>\n",
              "      <th>0</th>\n",
              "      <td>2</td>\n",
              "      <td>2.0</td>\n",
              "      <td>19.0</td>\n",
              "      <td>80</td>\n",
              "      <td>0</td>\n",
              "      <td>15001</td>\n",
              "      <td>543.8</td>\n",
              "      <td>274.61</td>\n",
              "      <td>1664.8</td>\n",
              "      <td>1155.8</td>\n",
              "      <td>1072.7</td>\n",
              "      <td>136.3</td>\n",
              "      <td>1209.0</td>\n",
              "      <td>592.1</td>\n",
              "      <td>1019.5</td>\n",
              "      <td>0.7060</td>\n",
              "      <td>0.4532</td>\n",
              "    </tr>\n",
              "    <tr>\n",
              "      <th>1</th>\n",
              "      <td>3</td>\n",
              "      <td>2.0</td>\n",
              "      <td>19.0</td>\n",
              "      <td>60</td>\n",
              "      <td>0</td>\n",
              "      <td>15001</td>\n",
              "      <td>479.5</td>\n",
              "      <td>224.12</td>\n",
              "      <td>1585.0</td>\n",
              "      <td>1100.4</td>\n",
              "      <td>1016.9</td>\n",
              "      <td>192.4</td>\n",
              "      <td>1209.4</td>\n",
              "      <td>568.1</td>\n",
              "      <td>907.9</td>\n",
              "      <td>0.6183</td>\n",
              "      <td>0.4088</td>\n",
              "    </tr>\n",
              "    <tr>\n",
              "      <th>2</th>\n",
              "      <td>4</td>\n",
              "      <td>2.0</td>\n",
              "      <td>19.0</td>\n",
              "      <td>40</td>\n",
              "      <td>0</td>\n",
              "      <td>15001</td>\n",
              "      <td>389.1</td>\n",
              "      <td>186.39</td>\n",
              "      <td>1550.7</td>\n",
              "      <td>1077.4</td>\n",
              "      <td>979.7</td>\n",
              "      <td>234.1</td>\n",
              "      <td>1213.8</td>\n",
              "      <td>571.0</td>\n",
              "      <td>843.3</td>\n",
              "      <td>0.4995</td>\n",
              "      <td>0.3392</td>\n",
              "    </tr>\n",
              "  </tbody>\n",
              "</table>\n",
              "</div>"
            ],
            "text/plain": [
              "   No  EvaporatingTemp  CondensingTemp  ...  2ndCompSurgeMargin  VFR_1st  VFR_2nd\n",
              "0   2              2.0            19.0  ...              1019.5   0.7060   0.4532\n",
              "1   3              2.0            19.0  ...               907.9   0.6183   0.4088\n",
              "2   4              2.0            19.0  ...               843.3   0.4995   0.3392\n",
              "\n",
              "[3 rows x 17 columns]"
            ]
          },
          "metadata": {
            "tags": []
          },
          "execution_count": 27
        }
      ]
    },
    {
      "cell_type": "code",
      "metadata": {
        "id": "xCxNkrvb3Cfu",
        "colab": {
          "base_uri": "https://localhost:8080/",
          "height": 163
        },
        "outputId": "2cc1b784-90b2-4089-bf33-ce7ac2505bae"
      },
      "source": [
        "# 스케일링\n",
        "\n",
        "# 표준 스케일링\n",
        "from sklearn.preprocessing import StandardScaler\n",
        "scale = StandardScaler()\n",
        "df[[\"EvaporatingTemp_sc\",\"CondensingTemp_sc\",\"IGVOpening_sc\",\"RPM_sc\"]] = scale.fit_transform(df[[\"EvaporatingTemp\",\"CondensingTemp\",\"IGVOpening\",\"RPM\"]])\n",
        "\n",
        "# Min Max 스케일링\n",
        "from sklearn.preprocessing import MinMaxScaler\n",
        "minmax = MinMaxScaler()\n",
        "df[[\"EvaporatingTemp_mmsc\",\"CondensingTemp_mmsc\",\"IGVOpening_mmsc\",\"RPM_mmsc\"]] = minmax.fit_transform(df[[\"EvaporatingTemp\",\"CondensingTemp\",\"IGVOpening\",\"RPM\"]])\n",
        "\n",
        "df[:3]"
      ],
      "execution_count": 28,
      "outputs": [
        {
          "output_type": "execute_result",
          "data": {
            "text/html": [
              "<div>\n",
              "<style scoped>\n",
              "    .dataframe tbody tr th:only-of-type {\n",
              "        vertical-align: middle;\n",
              "    }\n",
              "\n",
              "    .dataframe tbody tr th {\n",
              "        vertical-align: top;\n",
              "    }\n",
              "\n",
              "    .dataframe thead th {\n",
              "        text-align: right;\n",
              "    }\n",
              "</style>\n",
              "<table border=\"1\" class=\"dataframe\">\n",
              "  <thead>\n",
              "    <tr style=\"text-align: right;\">\n",
              "      <th></th>\n",
              "      <th>No</th>\n",
              "      <th>EvaporatingTemp</th>\n",
              "      <th>CondensingTemp</th>\n",
              "      <th>IGVOpening</th>\n",
              "      <th>HotGasFraction</th>\n",
              "      <th>RPM</th>\n",
              "      <th>Capacity</th>\n",
              "      <th>InputPower</th>\n",
              "      <th>FirstTopHead</th>\n",
              "      <th>SecondTopHead</th>\n",
              "      <th>1stCompHead</th>\n",
              "      <th>2ndCompHead</th>\n",
              "      <th>TotalHead</th>\n",
              "      <th>1stCompSurgeMargin</th>\n",
              "      <th>2ndCompSurgeMargin</th>\n",
              "      <th>VFR_1st</th>\n",
              "      <th>VFR_2nd</th>\n",
              "      <th>EvaporatingTemp_sc</th>\n",
              "      <th>CondensingTemp_sc</th>\n",
              "      <th>IGVOpening_sc</th>\n",
              "      <th>RPM_sc</th>\n",
              "      <th>EvaporatingTemp_mmsc</th>\n",
              "      <th>CondensingTemp_mmsc</th>\n",
              "      <th>IGVOpening_mmsc</th>\n",
              "      <th>RPM_mmsc</th>\n",
              "    </tr>\n",
              "  </thead>\n",
              "  <tbody>\n",
              "    <tr>\n",
              "      <th>0</th>\n",
              "      <td>2</td>\n",
              "      <td>2.0</td>\n",
              "      <td>19.0</td>\n",
              "      <td>80</td>\n",
              "      <td>0</td>\n",
              "      <td>15001</td>\n",
              "      <td>543.8</td>\n",
              "      <td>274.61</td>\n",
              "      <td>1664.8</td>\n",
              "      <td>1155.8</td>\n",
              "      <td>1072.7</td>\n",
              "      <td>136.3</td>\n",
              "      <td>1209.0</td>\n",
              "      <td>592.1</td>\n",
              "      <td>1019.5</td>\n",
              "      <td>0.7060</td>\n",
              "      <td>0.4532</td>\n",
              "      <td>-1.622635</td>\n",
              "      <td>-1.391129</td>\n",
              "      <td>0.668366</td>\n",
              "      <td>1.095127</td>\n",
              "      <td>0.0</td>\n",
              "      <td>0.0</td>\n",
              "      <td>0.8</td>\n",
              "      <td>1.0</td>\n",
              "    </tr>\n",
              "    <tr>\n",
              "      <th>1</th>\n",
              "      <td>3</td>\n",
              "      <td>2.0</td>\n",
              "      <td>19.0</td>\n",
              "      <td>60</td>\n",
              "      <td>0</td>\n",
              "      <td>15001</td>\n",
              "      <td>479.5</td>\n",
              "      <td>224.12</td>\n",
              "      <td>1585.0</td>\n",
              "      <td>1100.4</td>\n",
              "      <td>1016.9</td>\n",
              "      <td>192.4</td>\n",
              "      <td>1209.4</td>\n",
              "      <td>568.1</td>\n",
              "      <td>907.9</td>\n",
              "      <td>0.6183</td>\n",
              "      <td>0.4088</td>\n",
              "      <td>-1.622635</td>\n",
              "      <td>-1.391129</td>\n",
              "      <td>-0.019406</td>\n",
              "      <td>1.095127</td>\n",
              "      <td>0.0</td>\n",
              "      <td>0.0</td>\n",
              "      <td>0.6</td>\n",
              "      <td>1.0</td>\n",
              "    </tr>\n",
              "    <tr>\n",
              "      <th>2</th>\n",
              "      <td>4</td>\n",
              "      <td>2.0</td>\n",
              "      <td>19.0</td>\n",
              "      <td>40</td>\n",
              "      <td>0</td>\n",
              "      <td>15001</td>\n",
              "      <td>389.1</td>\n",
              "      <td>186.39</td>\n",
              "      <td>1550.7</td>\n",
              "      <td>1077.4</td>\n",
              "      <td>979.7</td>\n",
              "      <td>234.1</td>\n",
              "      <td>1213.8</td>\n",
              "      <td>571.0</td>\n",
              "      <td>843.3</td>\n",
              "      <td>0.4995</td>\n",
              "      <td>0.3392</td>\n",
              "      <td>-1.622635</td>\n",
              "      <td>-1.391129</td>\n",
              "      <td>-0.707177</td>\n",
              "      <td>1.095127</td>\n",
              "      <td>0.0</td>\n",
              "      <td>0.0</td>\n",
              "      <td>0.4</td>\n",
              "      <td>1.0</td>\n",
              "    </tr>\n",
              "  </tbody>\n",
              "</table>\n",
              "</div>"
            ],
            "text/plain": [
              "   No  EvaporatingTemp  ...  IGVOpening_mmsc  RPM_mmsc\n",
              "0   2              2.0  ...              0.8       1.0\n",
              "1   3              2.0  ...              0.6       1.0\n",
              "2   4              2.0  ...              0.4       1.0\n",
              "\n",
              "[3 rows x 25 columns]"
            ]
          },
          "metadata": {
            "tags": []
          },
          "execution_count": 28
        }
      ]
    },
    {
      "cell_type": "code",
      "metadata": {
        "scrolled": true,
        "id": "mA3UWgcq3Cfv",
        "colab": {
          "base_uri": "https://localhost:8080/"
        },
        "outputId": "7cd7ff30-8998-4829-ffb3-8668c6a736ff"
      },
      "source": [
        "#X = df[[\"EvaporatingTemp\", \"CondensingTemp\", \"IGVOpening\", \"RPM\"]]\n",
        "# 표준 스케일링 적용\n",
        "X = df[[\"EvaporatingTemp_sc\",\"CondensingTemp_sc\",\"IGVOpening_sc\",\"RPM_sc\"]]\n",
        "\n",
        "# Min Max 스케일링 적용\n",
        "#X = df[[\"EvaporatingTemp_mmsc\",\"CondensingTemp_mmsc\",\"IGVOpening_mmsc\",\"RPM_mmsc\"]]\n",
        "\n",
        "y = df[[\"Capacity\", \"InputPower\", \"FirstTopHead\", \"SecondTopHead\", \"1stCompHead\", \"2ndCompHead\"]]\n",
        "X[:5], y[:5]\n"
      ],
      "execution_count": 29,
      "outputs": [
        {
          "output_type": "execute_result",
          "data": {
            "text/plain": [
              "(   EvaporatingTemp_sc  CondensingTemp_sc  IGVOpening_sc    RPM_sc\n",
              " 0           -1.622635          -1.391129       0.668366  1.095127\n",
              " 1           -1.622635          -1.391129      -0.019406  1.095127\n",
              " 2           -1.622635          -1.391129      -0.707177  1.095127\n",
              " 3           -1.622635          -1.391129      -1.394948  1.095127\n",
              " 4           -1.622635          -1.391129      -2.082720  1.095127,\n",
              "    Capacity  InputPower  FirstTopHead  SecondTopHead  1stCompHead  2ndCompHead\n",
              " 0     543.8      274.61        1664.8         1155.8       1072.7        136.3\n",
              " 1     479.5      224.12        1585.0         1100.4       1016.9        192.4\n",
              " 2     389.1      186.39        1550.7         1077.4        979.7        234.1\n",
              " 3     254.7      146.55        1512.2         1053.8        931.7        300.5\n",
              " 4      58.3       94.05        1095.8          771.2       1060.0        292.3)"
            ]
          },
          "metadata": {
            "tags": []
          },
          "execution_count": 29
        }
      ]
    },
    {
      "cell_type": "code",
      "metadata": {
        "scrolled": true,
        "id": "Rsk67Nco3Cfv"
      },
      "source": [
        "from sklearn.model_selection import train_test_split\n",
        "from keras import layers\n",
        "from keras import models\n",
        "from keras.callbacks import EarlyStopping\n",
        "from keras.callbacks import ModelCheckpoint"
      ],
      "execution_count": 30,
      "outputs": []
    },
    {
      "cell_type": "code",
      "metadata": {
        "id": "7SUt4zeG3Cfv"
      },
      "source": [
        "early_stopping = EarlyStopping(monitor='val_loss', patience=5, verbose=1)\n",
        "# monitor='val_loss' : validation set 의 loss 를 monitoring 한다\n",
        "# mode='min' : performance measure를 최소화 시킴, default는 'auto'\n",
        "# verbose=1 : 언제 keras 에서 training 을 멈추었는지를 화면에 출력\n",
        "\n",
        "# mc = ModelCheckpoint('best_model.h5', monitor='val_acc', mode='min', save_best_only=True)\n",
        "# Early stopping 객체에 의해 트레이닝이 중지되었을 때 그 상태는 이전 모ㅔㄹ에 비해 일반적으로\n",
        "# validation error가 높은 상이일 것이다. 따라사 중지된 상태가 최고의 모델이 아닐 것이다.\n",
        "# 가장 validation performance가 좋은 모델을 저장하기 위해 keras에서는 ModelCheckpoint 객체가 존재"
      ],
      "execution_count": 31,
      "outputs": []
    },
    {
      "cell_type": "code",
      "metadata": {
        "id": "v7c7Wlpb3Cfw",
        "colab": {
          "base_uri": "https://localhost:8080/"
        },
        "outputId": "d4aae30d-5483-4325-9273-b1f3d318222c"
      },
      "source": [
        "X_train, X_test, y_train, y_test = train_test_split(X, y, test_size = 0.3, random_state=9)    ################\n",
        "model = models.Sequential()\n",
        "model.add(layers.Dense(70, activation='relu', input_shape = (4,)))    # 스케일링 할 것  x\n",
        "#model.add(layers.BatchNormalization())\n",
        "model.add(layers.Dense(70, activation='relu'))\n",
        "#model.add(layers.Dense(100, activation='relu'))\n",
        "# model.add(layers.Dense(100, activation='relu'))\n",
        "#model.add(layers.BatchNormalization())\n",
        "#model.add(layers.Dropout(0.2))\n",
        "model.add(layers.Dense(6, activation='linear'))    # activation='linear'  디폴트값임\n",
        "model.summary()\n",
        "# 안되면 레이어 추가할 것"
      ],
      "execution_count": 32,
      "outputs": [
        {
          "output_type": "stream",
          "text": [
            "Model: \"sequential_1\"\n",
            "_________________________________________________________________\n",
            "Layer (type)                 Output Shape              Param #   \n",
            "=================================================================\n",
            "dense_3 (Dense)              (None, 70)                350       \n",
            "_________________________________________________________________\n",
            "dense_4 (Dense)              (None, 70)                4970      \n",
            "_________________________________________________________________\n",
            "dense_5 (Dense)              (None, 6)                 426       \n",
            "=================================================================\n",
            "Total params: 5,746\n",
            "Trainable params: 5,746\n",
            "Non-trainable params: 0\n",
            "_________________________________________________________________\n"
          ],
          "name": "stdout"
        }
      ]
    },
    {
      "cell_type": "code",
      "metadata": {
        "id": "2WRP08eL3Cfw",
        "colab": {
          "base_uri": "https://localhost:8080/"
        },
        "outputId": "e7c88c23-6f4a-47ea-a300-812b02d850ea"
      },
      "source": [
        "model.compile(optimizer= 'adam', loss = 'mean_squared_error')\n",
        "history = model.fit(X_train, y_train, epochs=300, batch_size=20, verbose=1, validation_split = 0.2, callbacks=[early_stopping])    # early stopping   5정도 적용  5~10"
      ],
      "execution_count": 33,
      "outputs": [
        {
          "output_type": "stream",
          "text": [
            "Epoch 1/300\n",
            "43/43 [==============================] - 1s 7ms/step - loss: 654719.8295 - val_loss: 651674.3125\n",
            "Epoch 2/300\n",
            "43/43 [==============================] - 0s 2ms/step - loss: 655644.7188 - val_loss: 638444.5625\n",
            "Epoch 3/300\n",
            "43/43 [==============================] - 0s 3ms/step - loss: 634679.6747 - val_loss: 597844.3125\n",
            "Epoch 4/300\n",
            "43/43 [==============================] - 0s 2ms/step - loss: 584218.5966 - val_loss: 512793.2812\n",
            "Epoch 5/300\n",
            "43/43 [==============================] - 0s 2ms/step - loss: 481875.8018 - val_loss: 386818.2500\n",
            "Epoch 6/300\n",
            "43/43 [==============================] - 0s 2ms/step - loss: 348214.3970 - val_loss: 248854.0625\n",
            "Epoch 7/300\n",
            "43/43 [==============================] - 0s 2ms/step - loss: 215264.3391 - val_loss: 142563.1250\n",
            "Epoch 8/300\n",
            "43/43 [==============================] - 0s 2ms/step - loss: 119740.4221 - val_loss: 78841.1484\n",
            "Epoch 9/300\n",
            "43/43 [==============================] - 0s 2ms/step - loss: 66653.4092 - val_loss: 47441.0273\n",
            "Epoch 10/300\n",
            "43/43 [==============================] - 0s 2ms/step - loss: 42648.7109 - val_loss: 33620.8672\n",
            "Epoch 11/300\n",
            "43/43 [==============================] - 0s 3ms/step - loss: 32142.1028 - val_loss: 27515.6504\n",
            "Epoch 12/300\n",
            "43/43 [==============================] - 0s 2ms/step - loss: 27177.4798 - val_loss: 24443.6055\n",
            "Epoch 13/300\n",
            "43/43 [==============================] - 0s 2ms/step - loss: 24294.1124 - val_loss: 22679.3496\n",
            "Epoch 14/300\n",
            "43/43 [==============================] - 0s 2ms/step - loss: 22282.0251 - val_loss: 21478.4609\n",
            "Epoch 15/300\n",
            "43/43 [==============================] - 0s 2ms/step - loss: 21213.1560 - val_loss: 20615.3457\n",
            "Epoch 16/300\n",
            "43/43 [==============================] - 0s 2ms/step - loss: 20059.4919 - val_loss: 19998.1875\n",
            "Epoch 17/300\n",
            "43/43 [==============================] - 0s 2ms/step - loss: 19293.7335 - val_loss: 19395.0156\n",
            "Epoch 18/300\n",
            "43/43 [==============================] - 0s 2ms/step - loss: 18659.7538 - val_loss: 18922.7012\n",
            "Epoch 19/300\n",
            "43/43 [==============================] - 0s 2ms/step - loss: 19741.4928 - val_loss: 18469.1680\n",
            "Epoch 20/300\n",
            "43/43 [==============================] - 0s 2ms/step - loss: 17077.2581 - val_loss: 18042.7363\n",
            "Epoch 21/300\n",
            "43/43 [==============================] - 0s 2ms/step - loss: 16895.6718 - val_loss: 17637.4316\n",
            "Epoch 22/300\n",
            "43/43 [==============================] - 0s 2ms/step - loss: 16669.2501 - val_loss: 17193.0039\n",
            "Epoch 23/300\n",
            "43/43 [==============================] - 0s 2ms/step - loss: 16529.5520 - val_loss: 16822.6367\n",
            "Epoch 24/300\n",
            "43/43 [==============================] - 0s 2ms/step - loss: 16101.6468 - val_loss: 16446.4043\n",
            "Epoch 25/300\n",
            "43/43 [==============================] - 0s 2ms/step - loss: 15858.5641 - val_loss: 16112.8887\n",
            "Epoch 26/300\n",
            "43/43 [==============================] - 0s 2ms/step - loss: 15042.8793 - val_loss: 15724.4717\n",
            "Epoch 27/300\n",
            "43/43 [==============================] - 0s 2ms/step - loss: 15121.3692 - val_loss: 15392.2803\n",
            "Epoch 28/300\n",
            "43/43 [==============================] - 0s 2ms/step - loss: 15131.1822 - val_loss: 15063.2383\n",
            "Epoch 29/300\n",
            "43/43 [==============================] - 0s 2ms/step - loss: 14427.7304 - val_loss: 14747.5020\n",
            "Epoch 30/300\n",
            "43/43 [==============================] - 0s 2ms/step - loss: 14088.9451 - val_loss: 14462.7686\n",
            "Epoch 31/300\n",
            "43/43 [==============================] - 0s 2ms/step - loss: 13992.6427 - val_loss: 14144.3975\n",
            "Epoch 32/300\n",
            "43/43 [==============================] - 0s 2ms/step - loss: 14025.8108 - val_loss: 13869.0098\n",
            "Epoch 33/300\n",
            "43/43 [==============================] - 0s 3ms/step - loss: 13470.0596 - val_loss: 13603.3867\n",
            "Epoch 34/300\n",
            "43/43 [==============================] - 0s 2ms/step - loss: 13728.7637 - val_loss: 13335.0781\n",
            "Epoch 35/300\n",
            "43/43 [==============================] - 0s 2ms/step - loss: 13158.1982 - val_loss: 13081.9111\n",
            "Epoch 36/300\n",
            "43/43 [==============================] - 0s 2ms/step - loss: 12375.4270 - val_loss: 12854.1865\n",
            "Epoch 37/300\n",
            "43/43 [==============================] - 0s 2ms/step - loss: 12039.1901 - val_loss: 12621.4717\n",
            "Epoch 38/300\n",
            "43/43 [==============================] - 0s 2ms/step - loss: 12445.2111 - val_loss: 12398.5410\n",
            "Epoch 39/300\n",
            "43/43 [==============================] - 0s 2ms/step - loss: 11792.4455 - val_loss: 12188.4766\n",
            "Epoch 40/300\n",
            "43/43 [==============================] - 0s 2ms/step - loss: 12171.0392 - val_loss: 11980.9268\n",
            "Epoch 41/300\n",
            "43/43 [==============================] - 0s 2ms/step - loss: 11579.7174 - val_loss: 11782.9268\n",
            "Epoch 42/300\n",
            "43/43 [==============================] - 0s 2ms/step - loss: 12421.0279 - val_loss: 11573.3047\n",
            "Epoch 43/300\n",
            "43/43 [==============================] - 0s 2ms/step - loss: 11066.7253 - val_loss: 11397.4307\n",
            "Epoch 44/300\n",
            "43/43 [==============================] - 0s 2ms/step - loss: 11377.2424 - val_loss: 11199.5498\n",
            "Epoch 45/300\n",
            "43/43 [==============================] - 0s 2ms/step - loss: 11124.3453 - val_loss: 11004.5771\n",
            "Epoch 46/300\n",
            "43/43 [==============================] - 0s 2ms/step - loss: 10484.2750 - val_loss: 10832.8320\n",
            "Epoch 47/300\n",
            "43/43 [==============================] - 0s 3ms/step - loss: 11146.4792 - val_loss: 10625.4844\n",
            "Epoch 48/300\n",
            "43/43 [==============================] - 0s 2ms/step - loss: 10378.4310 - val_loss: 10437.2656\n",
            "Epoch 49/300\n",
            "43/43 [==============================] - 0s 2ms/step - loss: 10105.6994 - val_loss: 10231.3320\n",
            "Epoch 50/300\n",
            "43/43 [==============================] - 0s 2ms/step - loss: 10012.9891 - val_loss: 10016.5879\n",
            "Epoch 51/300\n",
            "43/43 [==============================] - 0s 2ms/step - loss: 9661.9871 - val_loss: 9826.0273\n",
            "Epoch 52/300\n",
            "43/43 [==============================] - 0s 2ms/step - loss: 9569.9841 - val_loss: 9593.6543\n",
            "Epoch 53/300\n",
            "43/43 [==============================] - 0s 3ms/step - loss: 9385.7500 - val_loss: 9366.1299\n",
            "Epoch 54/300\n",
            "43/43 [==============================] - 0s 2ms/step - loss: 9313.1588 - val_loss: 9118.5254\n",
            "Epoch 55/300\n",
            "43/43 [==============================] - 0s 2ms/step - loss: 9257.4361 - val_loss: 8876.5234\n",
            "Epoch 56/300\n",
            "43/43 [==============================] - 0s 2ms/step - loss: 8432.0406 - val_loss: 8611.8945\n",
            "Epoch 57/300\n",
            "43/43 [==============================] - 0s 2ms/step - loss: 8143.8356 - val_loss: 8342.0410\n",
            "Epoch 58/300\n",
            "43/43 [==============================] - 0s 2ms/step - loss: 8323.3856 - val_loss: 8040.0767\n",
            "Epoch 59/300\n",
            "43/43 [==============================] - 0s 2ms/step - loss: 8102.8101 - val_loss: 7750.5220\n",
            "Epoch 60/300\n",
            "43/43 [==============================] - 0s 2ms/step - loss: 7723.5583 - val_loss: 7418.3857\n",
            "Epoch 61/300\n",
            "43/43 [==============================] - 0s 2ms/step - loss: 7502.5872 - val_loss: 7090.0142\n",
            "Epoch 62/300\n",
            "43/43 [==============================] - 0s 2ms/step - loss: 7110.9916 - val_loss: 6745.7480\n",
            "Epoch 63/300\n",
            "43/43 [==============================] - 0s 2ms/step - loss: 6466.3466 - val_loss: 6386.7295\n",
            "Epoch 64/300\n",
            "43/43 [==============================] - 0s 2ms/step - loss: 6021.1981 - val_loss: 6024.9785\n",
            "Epoch 65/300\n",
            "43/43 [==============================] - 0s 2ms/step - loss: 5997.4276 - val_loss: 5655.5215\n",
            "Epoch 66/300\n",
            "43/43 [==============================] - 0s 2ms/step - loss: 5429.9899 - val_loss: 5280.5781\n",
            "Epoch 67/300\n",
            "43/43 [==============================] - 0s 2ms/step - loss: 4909.9880 - val_loss: 4913.2529\n",
            "Epoch 68/300\n",
            "43/43 [==============================] - 0s 2ms/step - loss: 4703.4498 - val_loss: 4565.3184\n",
            "Epoch 69/300\n",
            "43/43 [==============================] - 0s 2ms/step - loss: 4095.4671 - val_loss: 4204.8271\n",
            "Epoch 70/300\n",
            "43/43 [==============================] - 0s 2ms/step - loss: 3868.1319 - val_loss: 3862.1426\n",
            "Epoch 71/300\n",
            "43/43 [==============================] - 0s 3ms/step - loss: 3504.8387 - val_loss: 3556.2595\n",
            "Epoch 72/300\n",
            "43/43 [==============================] - 0s 2ms/step - loss: 3315.3887 - val_loss: 3268.0234\n",
            "Epoch 73/300\n",
            "43/43 [==============================] - 0s 2ms/step - loss: 3019.0223 - val_loss: 2995.6040\n",
            "Epoch 74/300\n",
            "43/43 [==============================] - 0s 2ms/step - loss: 2790.8911 - val_loss: 2767.6345\n",
            "Epoch 75/300\n",
            "43/43 [==============================] - 0s 2ms/step - loss: 2711.8223 - val_loss: 2553.3320\n",
            "Epoch 76/300\n",
            "43/43 [==============================] - 0s 2ms/step - loss: 2447.3307 - val_loss: 2373.3794\n",
            "Epoch 77/300\n",
            "43/43 [==============================] - 0s 2ms/step - loss: 2112.2071 - val_loss: 2228.7383\n",
            "Epoch 78/300\n",
            "43/43 [==============================] - 0s 2ms/step - loss: 2011.8362 - val_loss: 2090.9736\n",
            "Epoch 79/300\n",
            "43/43 [==============================] - 0s 2ms/step - loss: 1959.0090 - val_loss: 1980.8872\n",
            "Epoch 80/300\n",
            "43/43 [==============================] - 0s 2ms/step - loss: 1710.8054 - val_loss: 1866.4739\n",
            "Epoch 81/300\n",
            "43/43 [==============================] - 0s 2ms/step - loss: 1604.7921 - val_loss: 1751.8600\n",
            "Epoch 82/300\n",
            "43/43 [==============================] - 0s 2ms/step - loss: 1587.5202 - val_loss: 1652.3147\n",
            "Epoch 83/300\n",
            "43/43 [==============================] - 0s 2ms/step - loss: 1709.2456 - val_loss: 1559.9965\n",
            "Epoch 84/300\n",
            "43/43 [==============================] - 0s 2ms/step - loss: 1403.7424 - val_loss: 1487.6753\n",
            "Epoch 85/300\n",
            "43/43 [==============================] - 0s 2ms/step - loss: 1512.1633 - val_loss: 1426.7123\n",
            "Epoch 86/300\n",
            "43/43 [==============================] - 0s 2ms/step - loss: 1294.4467 - val_loss: 1375.3398\n",
            "Epoch 87/300\n",
            "43/43 [==============================] - 0s 2ms/step - loss: 1298.8987 - val_loss: 1317.6970\n",
            "Epoch 88/300\n",
            "43/43 [==============================] - 0s 2ms/step - loss: 1128.0076 - val_loss: 1288.0325\n",
            "Epoch 89/300\n",
            "43/43 [==============================] - 0s 3ms/step - loss: 1104.9898 - val_loss: 1252.5983\n",
            "Epoch 90/300\n",
            "43/43 [==============================] - 0s 2ms/step - loss: 1084.5436 - val_loss: 1219.8513\n",
            "Epoch 91/300\n",
            "43/43 [==============================] - 0s 2ms/step - loss: 1240.0127 - val_loss: 1190.2389\n",
            "Epoch 92/300\n",
            "43/43 [==============================] - 0s 2ms/step - loss: 1224.0246 - val_loss: 1169.0101\n",
            "Epoch 93/300\n",
            "43/43 [==============================] - 0s 2ms/step - loss: 1196.9620 - val_loss: 1152.0674\n",
            "Epoch 94/300\n",
            "43/43 [==============================] - 0s 2ms/step - loss: 1030.7080 - val_loss: 1131.8829\n",
            "Epoch 95/300\n",
            "43/43 [==============================] - 0s 2ms/step - loss: 1202.2954 - val_loss: 1123.5186\n",
            "Epoch 96/300\n",
            "43/43 [==============================] - 0s 2ms/step - loss: 1260.3882 - val_loss: 1105.8845\n",
            "Epoch 97/300\n",
            "43/43 [==============================] - 0s 2ms/step - loss: 1253.1782 - val_loss: 1094.3718\n",
            "Epoch 98/300\n",
            "43/43 [==============================] - 0s 2ms/step - loss: 992.1691 - val_loss: 1080.6113\n",
            "Epoch 99/300\n",
            "43/43 [==============================] - 0s 2ms/step - loss: 1088.2709 - val_loss: 1066.1532\n",
            "Epoch 100/300\n",
            "43/43 [==============================] - 0s 2ms/step - loss: 903.0070 - val_loss: 1063.3992\n",
            "Epoch 101/300\n",
            "43/43 [==============================] - 0s 2ms/step - loss: 992.7424 - val_loss: 1044.1863\n",
            "Epoch 102/300\n",
            "43/43 [==============================] - 0s 2ms/step - loss: 1005.6603 - val_loss: 1035.7120\n",
            "Epoch 103/300\n",
            "43/43 [==============================] - 0s 2ms/step - loss: 1087.9820 - val_loss: 1039.9131\n",
            "Epoch 104/300\n",
            "43/43 [==============================] - 0s 3ms/step - loss: 1012.2489 - val_loss: 1024.8198\n",
            "Epoch 105/300\n",
            "43/43 [==============================] - 0s 2ms/step - loss: 843.8922 - val_loss: 1015.6282\n",
            "Epoch 106/300\n",
            "43/43 [==============================] - 0s 2ms/step - loss: 845.0472 - val_loss: 1010.2897\n",
            "Epoch 107/300\n",
            "43/43 [==============================] - 0s 2ms/step - loss: 810.3568 - val_loss: 996.4186\n",
            "Epoch 108/300\n",
            "43/43 [==============================] - 0s 2ms/step - loss: 907.9792 - val_loss: 986.9241\n",
            "Epoch 109/300\n",
            "43/43 [==============================] - 0s 2ms/step - loss: 994.7729 - val_loss: 983.4681\n",
            "Epoch 110/300\n",
            "43/43 [==============================] - 0s 2ms/step - loss: 864.0577 - val_loss: 977.0963\n",
            "Epoch 111/300\n",
            "43/43 [==============================] - 0s 2ms/step - loss: 939.0565 - val_loss: 970.9438\n",
            "Epoch 112/300\n",
            "43/43 [==============================] - 0s 2ms/step - loss: 1041.0886 - val_loss: 964.7977\n",
            "Epoch 113/300\n",
            "43/43 [==============================] - 0s 2ms/step - loss: 747.7639 - val_loss: 967.8557\n",
            "Epoch 114/300\n",
            "43/43 [==============================] - 0s 2ms/step - loss: 897.3580 - val_loss: 952.2000\n",
            "Epoch 115/300\n",
            "43/43 [==============================] - 0s 2ms/step - loss: 810.4215 - val_loss: 957.1841\n",
            "Epoch 116/300\n",
            "43/43 [==============================] - 0s 2ms/step - loss: 983.8703 - val_loss: 942.6107\n",
            "Epoch 117/300\n",
            "43/43 [==============================] - 0s 2ms/step - loss: 972.6574 - val_loss: 937.7648\n",
            "Epoch 118/300\n",
            "43/43 [==============================] - 0s 2ms/step - loss: 953.4858 - val_loss: 937.0139\n",
            "Epoch 119/300\n",
            "43/43 [==============================] - 0s 2ms/step - loss: 914.5491 - val_loss: 930.4092\n",
            "Epoch 120/300\n",
            "43/43 [==============================] - 0s 2ms/step - loss: 919.5085 - val_loss: 919.0933\n",
            "Epoch 121/300\n",
            "43/43 [==============================] - 0s 2ms/step - loss: 778.8475 - val_loss: 918.4289\n",
            "Epoch 122/300\n",
            "43/43 [==============================] - 0s 2ms/step - loss: 810.6353 - val_loss: 911.8857\n",
            "Epoch 123/300\n",
            "43/43 [==============================] - 0s 2ms/step - loss: 759.0997 - val_loss: 916.7444\n",
            "Epoch 124/300\n",
            "43/43 [==============================] - 0s 2ms/step - loss: 890.0890 - val_loss: 903.3121\n",
            "Epoch 125/300\n",
            "43/43 [==============================] - 0s 2ms/step - loss: 974.2229 - val_loss: 900.7269\n",
            "Epoch 126/300\n",
            "43/43 [==============================] - 0s 2ms/step - loss: 914.6627 - val_loss: 905.7060\n",
            "Epoch 127/300\n",
            "43/43 [==============================] - 0s 2ms/step - loss: 870.8883 - val_loss: 903.5316\n",
            "Epoch 128/300\n",
            "43/43 [==============================] - 0s 2ms/step - loss: 778.1887 - val_loss: 904.9288\n",
            "Epoch 129/300\n",
            "43/43 [==============================] - 0s 2ms/step - loss: 826.2667 - val_loss: 890.1685\n",
            "Epoch 130/300\n",
            "43/43 [==============================] - 0s 2ms/step - loss: 834.1053 - val_loss: 881.4497\n",
            "Epoch 131/300\n",
            "43/43 [==============================] - 0s 2ms/step - loss: 817.1421 - val_loss: 888.8801\n",
            "Epoch 132/300\n",
            "43/43 [==============================] - 0s 2ms/step - loss: 862.6982 - val_loss: 892.7679\n",
            "Epoch 133/300\n",
            "43/43 [==============================] - 0s 2ms/step - loss: 958.0508 - val_loss: 872.3787\n",
            "Epoch 134/300\n",
            "43/43 [==============================] - 0s 2ms/step - loss: 885.2567 - val_loss: 875.3920\n",
            "Epoch 135/300\n",
            "43/43 [==============================] - 0s 2ms/step - loss: 797.4754 - val_loss: 871.9698\n",
            "Epoch 136/300\n",
            "43/43 [==============================] - 0s 2ms/step - loss: 924.6396 - val_loss: 863.3544\n",
            "Epoch 137/300\n",
            "43/43 [==============================] - 0s 2ms/step - loss: 781.5634 - val_loss: 884.0833\n",
            "Epoch 138/300\n",
            "43/43 [==============================] - 0s 2ms/step - loss: 848.4494 - val_loss: 864.3047\n",
            "Epoch 139/300\n",
            "43/43 [==============================] - 0s 2ms/step - loss: 864.7082 - val_loss: 863.4677\n",
            "Epoch 140/300\n",
            "43/43 [==============================] - 0s 2ms/step - loss: 747.2312 - val_loss: 866.6001\n",
            "Epoch 141/300\n",
            "43/43 [==============================] - 0s 2ms/step - loss: 880.1807 - val_loss: 855.1088\n",
            "Epoch 142/300\n",
            "43/43 [==============================] - 0s 2ms/step - loss: 737.7450 - val_loss: 850.7419\n",
            "Epoch 143/300\n",
            "43/43 [==============================] - 0s 2ms/step - loss: 859.9389 - val_loss: 852.8157\n",
            "Epoch 144/300\n",
            "43/43 [==============================] - 0s 3ms/step - loss: 848.2263 - val_loss: 846.1971\n",
            "Epoch 145/300\n",
            "43/43 [==============================] - 0s 2ms/step - loss: 793.6376 - val_loss: 853.7538\n",
            "Epoch 146/300\n",
            "43/43 [==============================] - 0s 2ms/step - loss: 730.3338 - val_loss: 846.1549\n",
            "Epoch 147/300\n",
            "43/43 [==============================] - 0s 2ms/step - loss: 873.1561 - val_loss: 838.6336\n",
            "Epoch 148/300\n",
            "43/43 [==============================] - 0s 3ms/step - loss: 787.8464 - val_loss: 836.7473\n",
            "Epoch 149/300\n",
            "43/43 [==============================] - 0s 2ms/step - loss: 834.6780 - val_loss: 839.1893\n",
            "Epoch 150/300\n",
            "43/43 [==============================] - 0s 2ms/step - loss: 981.2611 - val_loss: 840.9615\n",
            "Epoch 151/300\n",
            "43/43 [==============================] - 0s 2ms/step - loss: 701.3378 - val_loss: 829.8948\n",
            "Epoch 152/300\n",
            "43/43 [==============================] - 0s 2ms/step - loss: 806.2821 - val_loss: 832.6614\n",
            "Epoch 153/300\n",
            "43/43 [==============================] - 0s 2ms/step - loss: 766.6886 - val_loss: 821.9930\n",
            "Epoch 154/300\n",
            "43/43 [==============================] - 0s 2ms/step - loss: 917.5682 - val_loss: 828.0687\n",
            "Epoch 155/300\n",
            "43/43 [==============================] - 0s 2ms/step - loss: 786.6059 - val_loss: 828.8788\n",
            "Epoch 156/300\n",
            "43/43 [==============================] - 0s 2ms/step - loss: 880.2966 - val_loss: 820.7781\n",
            "Epoch 157/300\n",
            "43/43 [==============================] - 0s 2ms/step - loss: 767.0613 - val_loss: 821.0405\n",
            "Epoch 158/300\n",
            "43/43 [==============================] - 0s 2ms/step - loss: 809.8615 - val_loss: 833.7791\n",
            "Epoch 159/300\n",
            "43/43 [==============================] - 0s 2ms/step - loss: 718.6005 - val_loss: 827.4342\n",
            "Epoch 160/300\n",
            "43/43 [==============================] - 0s 2ms/step - loss: 826.9712 - val_loss: 812.2826\n",
            "Epoch 161/300\n",
            "43/43 [==============================] - 0s 2ms/step - loss: 915.5620 - val_loss: 805.4111\n",
            "Epoch 162/300\n",
            "43/43 [==============================] - 0s 2ms/step - loss: 789.7468 - val_loss: 810.0807\n",
            "Epoch 163/300\n",
            "43/43 [==============================] - 0s 2ms/step - loss: 1027.6300 - val_loss: 821.4006\n",
            "Epoch 164/300\n",
            "43/43 [==============================] - 0s 2ms/step - loss: 735.6865 - val_loss: 807.8594\n",
            "Epoch 165/300\n",
            "43/43 [==============================] - 0s 2ms/step - loss: 818.5876 - val_loss: 800.2433\n",
            "Epoch 166/300\n",
            "43/43 [==============================] - 0s 2ms/step - loss: 828.3196 - val_loss: 805.0799\n",
            "Epoch 167/300\n",
            "43/43 [==============================] - 0s 2ms/step - loss: 855.3278 - val_loss: 791.9575\n",
            "Epoch 168/300\n",
            "43/43 [==============================] - 0s 2ms/step - loss: 777.1575 - val_loss: 807.2328\n",
            "Epoch 169/300\n",
            "43/43 [==============================] - 0s 2ms/step - loss: 909.7368 - val_loss: 815.7629\n",
            "Epoch 170/300\n",
            "43/43 [==============================] - 0s 2ms/step - loss: 751.9891 - val_loss: 800.6525\n",
            "Epoch 171/300\n",
            "43/43 [==============================] - 0s 2ms/step - loss: 695.4238 - val_loss: 801.8843\n",
            "Epoch 172/300\n",
            "43/43 [==============================] - 0s 2ms/step - loss: 758.3795 - val_loss: 791.0976\n",
            "Epoch 173/300\n",
            "43/43 [==============================] - 0s 2ms/step - loss: 841.8112 - val_loss: 785.3163\n",
            "Epoch 174/300\n",
            "43/43 [==============================] - 0s 2ms/step - loss: 764.6393 - val_loss: 785.5237\n",
            "Epoch 175/300\n",
            "43/43 [==============================] - 0s 2ms/step - loss: 922.0965 - val_loss: 793.9699\n",
            "Epoch 176/300\n",
            "43/43 [==============================] - 0s 2ms/step - loss: 685.7628 - val_loss: 789.4818\n",
            "Epoch 177/300\n",
            "43/43 [==============================] - 0s 3ms/step - loss: 638.3166 - val_loss: 797.8737\n",
            "Epoch 178/300\n",
            "43/43 [==============================] - 0s 2ms/step - loss: 726.8649 - val_loss: 772.0936\n",
            "Epoch 179/300\n",
            "43/43 [==============================] - 0s 2ms/step - loss: 666.3526 - val_loss: 772.6516\n",
            "Epoch 180/300\n",
            "43/43 [==============================] - 0s 2ms/step - loss: 907.8239 - val_loss: 771.6329\n",
            "Epoch 181/300\n",
            "43/43 [==============================] - 0s 2ms/step - loss: 796.6007 - val_loss: 779.3010\n",
            "Epoch 182/300\n",
            "43/43 [==============================] - 0s 2ms/step - loss: 595.0158 - val_loss: 779.9590\n",
            "Epoch 183/300\n",
            "43/43 [==============================] - 0s 2ms/step - loss: 799.3726 - val_loss: 765.1973\n",
            "Epoch 184/300\n",
            "43/43 [==============================] - 0s 2ms/step - loss: 646.4266 - val_loss: 769.4509\n",
            "Epoch 185/300\n",
            "43/43 [==============================] - 0s 2ms/step - loss: 712.7932 - val_loss: 755.9174\n",
            "Epoch 186/300\n",
            "43/43 [==============================] - 0s 2ms/step - loss: 775.5238 - val_loss: 763.1273\n",
            "Epoch 187/300\n",
            "43/43 [==============================] - 0s 2ms/step - loss: 749.9594 - val_loss: 767.6709\n",
            "Epoch 188/300\n",
            "43/43 [==============================] - 0s 2ms/step - loss: 771.3750 - val_loss: 750.1295\n",
            "Epoch 189/300\n",
            "43/43 [==============================] - 0s 2ms/step - loss: 636.3091 - val_loss: 752.0641\n",
            "Epoch 190/300\n",
            "43/43 [==============================] - 0s 3ms/step - loss: 769.8056 - val_loss: 751.6599\n",
            "Epoch 191/300\n",
            "43/43 [==============================] - 0s 2ms/step - loss: 674.2189 - val_loss: 746.8969\n",
            "Epoch 192/300\n",
            "43/43 [==============================] - 0s 2ms/step - loss: 640.8133 - val_loss: 748.4344\n",
            "Epoch 193/300\n",
            "43/43 [==============================] - 0s 2ms/step - loss: 724.8856 - val_loss: 740.6458\n",
            "Epoch 194/300\n",
            "43/43 [==============================] - 0s 2ms/step - loss: 694.0807 - val_loss: 741.1154\n",
            "Epoch 195/300\n",
            "43/43 [==============================] - 0s 2ms/step - loss: 827.6857 - val_loss: 749.7637\n",
            "Epoch 196/300\n",
            "43/43 [==============================] - 0s 2ms/step - loss: 638.4092 - val_loss: 754.6125\n",
            "Epoch 197/300\n",
            "43/43 [==============================] - 0s 2ms/step - loss: 703.2065 - val_loss: 753.3052\n",
            "Epoch 198/300\n",
            "43/43 [==============================] - 0s 2ms/step - loss: 638.8829 - val_loss: 756.1199\n",
            "Epoch 00198: early stopping\n"
          ],
          "name": "stdout"
        }
      ]
    },
    {
      "cell_type": "code",
      "metadata": {
        "scrolled": true,
        "id": "kesUrwoV3Cfw",
        "colab": {
          "base_uri": "https://localhost:8080/"
        },
        "outputId": "5396748a-ce73-40fc-baa6-e3085aa316cf"
      },
      "source": [
        "X_test.shape"
      ],
      "execution_count": 34,
      "outputs": [
        {
          "output_type": "execute_result",
          "data": {
            "text/plain": [
              "(458, 4)"
            ]
          },
          "metadata": {
            "tags": []
          },
          "execution_count": 34
        }
      ]
    },
    {
      "cell_type": "code",
      "metadata": {
        "id": "s96l2G253Cfx",
        "colab": {
          "base_uri": "https://localhost:8080/"
        },
        "outputId": "4825b5fa-4af5-4e63-db62-195a0bb3a88c"
      },
      "source": [
        "model.predict(X_test[:10])"
      ],
      "execution_count": 35,
      "outputs": [
        {
          "output_type": "execute_result",
          "data": {
            "text/plain": [
              "array([[ 530.9014 ,  275.514  , 1288.8859 ,  888.3867 , 1202.0948 ,\n",
              "         797.4276 ],\n",
              "       [ 549.4056 ,  252.94403, 1263.475  ,  871.9491 , 1045.6705 ,\n",
              "         509.54965],\n",
              "       [ 197.71172,  186.595  , 1524.2174 , 1064.1649 , 1402.3895 ,\n",
              "        1026.8782 ],\n",
              "       [ 477.64932,  288.28592, 1435.8955 ,  999.30756, 1284.3658 ,\n",
              "         854.45465],\n",
              "       [ 419.54773,  183.70604, 1341.9357 ,  932.8597 ,  923.183  ,\n",
              "         226.57417],\n",
              "       [ 688.5197 ,  346.7041 , 1712.6614 , 1198.3029 , 1127.6628 ,\n",
              "         266.49854],\n",
              "       [ 257.79773,  140.7813 , 1374.2665 ,  957.724  ,  974.12885,\n",
              "         319.7438 ],\n",
              "       [ 316.3026 ,  126.55733, 1075.9641 ,  742.0735 ,  808.5677 ,\n",
              "         270.8591 ],\n",
              "       [ 434.3697 ,  232.15416, 1358.4318 ,  945.8777 , 1064.2363 ,\n",
              "         502.98322],\n",
              "       [ 330.49753,  211.87178, 1460.5746 , 1023.7964 , 1067.903  ,\n",
              "         455.4318 ]], dtype=float32)"
            ]
          },
          "metadata": {
            "tags": []
          },
          "execution_count": 35
        }
      ]
    },
    {
      "cell_type": "code",
      "metadata": {
        "scrolled": true,
        "id": "ZmfB8q2g3Cfx",
        "colab": {
          "base_uri": "https://localhost:8080/"
        },
        "outputId": "20f4228d-8137-4a1e-cb3f-9bebadadc42d"
      },
      "source": [
        "y_test.shape"
      ],
      "execution_count": 36,
      "outputs": [
        {
          "output_type": "execute_result",
          "data": {
            "text/plain": [
              "(458, 6)"
            ]
          },
          "metadata": {
            "tags": []
          },
          "execution_count": 36
        }
      ]
    },
    {
      "cell_type": "code",
      "metadata": {
        "id": "ISdK2dn13Cfx"
      },
      "source": [
        "import pandas as pd\n",
        "y_pred = model.predict(X_test)     # ravel 삭제"
      ],
      "execution_count": 37,
      "outputs": []
    },
    {
      "cell_type": "code",
      "metadata": {
        "id": "3iDsLirV3Cfy",
        "colab": {
          "base_uri": "https://localhost:8080/"
        },
        "outputId": "bb5a7d90-5763-4a8d-a629-366670bd9918"
      },
      "source": [
        "y_pred.shape"
      ],
      "execution_count": 38,
      "outputs": [
        {
          "output_type": "execute_result",
          "data": {
            "text/plain": [
              "(458, 6)"
            ]
          },
          "metadata": {
            "tags": []
          },
          "execution_count": 38
        }
      ]
    },
    {
      "cell_type": "code",
      "metadata": {
        "id": "TycQb8Ix3Cfy",
        "colab": {
          "base_uri": "https://localhost:8080/"
        },
        "outputId": "bd0e91ab-309d-4506-d49b-53a49b84fbba"
      },
      "source": [
        "y_test.shape"
      ],
      "execution_count": 39,
      "outputs": [
        {
          "output_type": "execute_result",
          "data": {
            "text/plain": [
              "(458, 6)"
            ]
          },
          "metadata": {
            "tags": []
          },
          "execution_count": 39
        }
      ]
    },
    {
      "cell_type": "code",
      "metadata": {
        "id": "zqK8A75B4Nbo",
        "colab": {
          "base_uri": "https://localhost:8080/"
        },
        "outputId": "afb790fa-cddd-43ba-f6b0-d318433bb8a0"
      },
      "source": [
        "from sklearn.metrics import r2_score\n",
        "r2_score(y_test, y_pred)     # 학습 부족    # 학습 과대 "
      ],
      "execution_count": 40,
      "outputs": [
        {
          "output_type": "execute_result",
          "data": {
            "text/plain": [
              "0.977279585140765"
            ]
          },
          "metadata": {
            "tags": []
          },
          "execution_count": 40
        }
      ]
    },
    {
      "cell_type": "code",
      "metadata": {
        "id": "20LZh3WbALnF"
      },
      "source": [
        "model.get_weights()\n",
        "\n",
        "#model.get_weights()[2].shape\n",
        "\n",
        "#weights = model.get_weights()\n",
        "#model.set_weights(weights)\n"
      ],
      "execution_count": 44,
      "outputs": []
    }
  ]
}