{
 "cells": [
  {
   "cell_type": "code",
   "execution_count": 16,
   "metadata": {},
   "outputs": [],
   "source": [
    "import numpy as np\n",
    "import pandas as pd\n",
    "import matplotlib.pyplot as plt\n",
    "%matplotlib inline\n",
    "%config InlineBackend.figure_format = 'retina'"
   ]
  },
  {
   "cell_type": "code",
   "execution_count": 17,
   "metadata": {
    "scrolled": true
   },
   "outputs": [
    {
     "name": "stdout",
     "output_type": "stream",
     "text": [
      "<class 'pandas.core.frame.DataFrame'>\n",
      "RangeIndex: 1524 entries, 0 to 1523\n",
      "Data columns (total 17 columns):\n",
      " #   Column              Non-Null Count  Dtype  \n",
      "---  ------              --------------  -----  \n",
      " 0   No                  1524 non-null   int64  \n",
      " 1   EvaporatingTemp     1524 non-null   float64\n",
      " 2   CondensingTemp      1524 non-null   float64\n",
      " 3   IGVOpening          1524 non-null   int64  \n",
      " 4   HotGasFraction      1524 non-null   int64  \n",
      " 5   RPM                 1524 non-null   int64  \n",
      " 6   Capacity            1524 non-null   float64\n",
      " 7   InputPower          1524 non-null   float64\n",
      " 8   FirstTopHead        1524 non-null   float64\n",
      " 9   SecondTopHead       1524 non-null   float64\n",
      " 10  1stCompHead         1524 non-null   float64\n",
      " 11  2ndCompHead         1524 non-null   float64\n",
      " 12  TotalHead           1524 non-null   float64\n",
      " 13  1stCompSurgeMargin  1524 non-null   float64\n",
      " 14  2ndCompSurgeMargin  1524 non-null   float64\n",
      " 15  VFR_1st             1524 non-null   float64\n",
      " 16  VFR_2nd             1524 non-null   float64\n",
      "dtypes: float64(13), int64(4)\n",
      "memory usage: 202.5 KB\n"
     ]
    }
   ],
   "source": [
    "data = pd.read_excel(\"D:\\MAGVI_500RT_RawData.xlsx\")\n",
    "data.info()"
   ]
  },
  {
   "cell_type": "code",
   "execution_count": 18,
   "metadata": {
    "scrolled": true
   },
   "outputs": [
    {
     "name": "stdout",
     "output_type": "stream",
     "text": [
      "(1524, 17)\n"
     ]
    },
    {
     "data": {
      "text/html": [
       "<div>\n",
       "<style scoped>\n",
       "    .dataframe tbody tr th:only-of-type {\n",
       "        vertical-align: middle;\n",
       "    }\n",
       "\n",
       "    .dataframe tbody tr th {\n",
       "        vertical-align: top;\n",
       "    }\n",
       "\n",
       "    .dataframe thead th {\n",
       "        text-align: right;\n",
       "    }\n",
       "</style>\n",
       "<table border=\"1\" class=\"dataframe\">\n",
       "  <thead>\n",
       "    <tr style=\"text-align: right;\">\n",
       "      <th></th>\n",
       "      <th>No</th>\n",
       "      <th>EvaporatingTemp</th>\n",
       "      <th>CondensingTemp</th>\n",
       "      <th>IGVOpening</th>\n",
       "      <th>HotGasFraction</th>\n",
       "      <th>RPM</th>\n",
       "      <th>Capacity</th>\n",
       "      <th>InputPower</th>\n",
       "      <th>FirstTopHead</th>\n",
       "      <th>SecondTopHead</th>\n",
       "      <th>1stCompHead</th>\n",
       "      <th>2ndCompHead</th>\n",
       "      <th>TotalHead</th>\n",
       "      <th>1stCompSurgeMargin</th>\n",
       "      <th>2ndCompSurgeMargin</th>\n",
       "      <th>VFR_1st</th>\n",
       "      <th>VFR_2nd</th>\n",
       "    </tr>\n",
       "  </thead>\n",
       "  <tbody>\n",
       "    <tr>\n",
       "      <th>0</th>\n",
       "      <td>2</td>\n",
       "      <td>2.0</td>\n",
       "      <td>19.0</td>\n",
       "      <td>80</td>\n",
       "      <td>0</td>\n",
       "      <td>15001</td>\n",
       "      <td>543.8</td>\n",
       "      <td>274.61</td>\n",
       "      <td>1664.8</td>\n",
       "      <td>1155.8</td>\n",
       "      <td>1072.7</td>\n",
       "      <td>136.3</td>\n",
       "      <td>1209.0</td>\n",
       "      <td>592.1</td>\n",
       "      <td>1019.5</td>\n",
       "      <td>0.7060</td>\n",
       "      <td>0.4532</td>\n",
       "    </tr>\n",
       "    <tr>\n",
       "      <th>1</th>\n",
       "      <td>3</td>\n",
       "      <td>2.0</td>\n",
       "      <td>19.0</td>\n",
       "      <td>60</td>\n",
       "      <td>0</td>\n",
       "      <td>15001</td>\n",
       "      <td>479.5</td>\n",
       "      <td>224.12</td>\n",
       "      <td>1585.0</td>\n",
       "      <td>1100.4</td>\n",
       "      <td>1016.9</td>\n",
       "      <td>192.4</td>\n",
       "      <td>1209.4</td>\n",
       "      <td>568.1</td>\n",
       "      <td>907.9</td>\n",
       "      <td>0.6183</td>\n",
       "      <td>0.4088</td>\n",
       "    </tr>\n",
       "    <tr>\n",
       "      <th>2</th>\n",
       "      <td>4</td>\n",
       "      <td>2.0</td>\n",
       "      <td>19.0</td>\n",
       "      <td>40</td>\n",
       "      <td>0</td>\n",
       "      <td>15001</td>\n",
       "      <td>389.1</td>\n",
       "      <td>186.39</td>\n",
       "      <td>1550.7</td>\n",
       "      <td>1077.4</td>\n",
       "      <td>979.7</td>\n",
       "      <td>234.1</td>\n",
       "      <td>1213.8</td>\n",
       "      <td>571.0</td>\n",
       "      <td>843.3</td>\n",
       "      <td>0.4995</td>\n",
       "      <td>0.3392</td>\n",
       "    </tr>\n",
       "    <tr>\n",
       "      <th>3</th>\n",
       "      <td>5</td>\n",
       "      <td>2.0</td>\n",
       "      <td>19.0</td>\n",
       "      <td>20</td>\n",
       "      <td>0</td>\n",
       "      <td>15001</td>\n",
       "      <td>254.7</td>\n",
       "      <td>146.55</td>\n",
       "      <td>1512.2</td>\n",
       "      <td>1053.8</td>\n",
       "      <td>931.7</td>\n",
       "      <td>300.5</td>\n",
       "      <td>1232.1</td>\n",
       "      <td>580.5</td>\n",
       "      <td>753.4</td>\n",
       "      <td>0.3253</td>\n",
       "      <td>0.2330</td>\n",
       "    </tr>\n",
       "    <tr>\n",
       "      <th>4</th>\n",
       "      <td>6</td>\n",
       "      <td>2.0</td>\n",
       "      <td>19.0</td>\n",
       "      <td>0</td>\n",
       "      <td>0</td>\n",
       "      <td>15001</td>\n",
       "      <td>58.3</td>\n",
       "      <td>94.05</td>\n",
       "      <td>1095.8</td>\n",
       "      <td>771.2</td>\n",
       "      <td>1060.0</td>\n",
       "      <td>292.3</td>\n",
       "      <td>1352.3</td>\n",
       "      <td>35.8</td>\n",
       "      <td>478.9</td>\n",
       "      <td>0.0760</td>\n",
       "      <td>0.0606</td>\n",
       "    </tr>\n",
       "  </tbody>\n",
       "</table>\n",
       "</div>"
      ],
      "text/plain": [
       "   No  EvaporatingTemp  CondensingTemp  IGVOpening  HotGasFraction    RPM  \\\n",
       "0   2              2.0            19.0          80               0  15001   \n",
       "1   3              2.0            19.0          60               0  15001   \n",
       "2   4              2.0            19.0          40               0  15001   \n",
       "3   5              2.0            19.0          20               0  15001   \n",
       "4   6              2.0            19.0           0               0  15001   \n",
       "\n",
       "   Capacity  InputPower  FirstTopHead  SecondTopHead  1stCompHead  \\\n",
       "0     543.8      274.61        1664.8         1155.8       1072.7   \n",
       "1     479.5      224.12        1585.0         1100.4       1016.9   \n",
       "2     389.1      186.39        1550.7         1077.4        979.7   \n",
       "3     254.7      146.55        1512.2         1053.8        931.7   \n",
       "4      58.3       94.05        1095.8          771.2       1060.0   \n",
       "\n",
       "   2ndCompHead  TotalHead  1stCompSurgeMargin  2ndCompSurgeMargin  VFR_1st  \\\n",
       "0        136.3     1209.0               592.1              1019.5   0.7060   \n",
       "1        192.4     1209.4               568.1               907.9   0.6183   \n",
       "2        234.1     1213.8               571.0               843.3   0.4995   \n",
       "3        300.5     1232.1               580.5               753.4   0.3253   \n",
       "4        292.3     1352.3                35.8               478.9   0.0760   \n",
       "\n",
       "   VFR_2nd  \n",
       "0   0.4532  \n",
       "1   0.4088  \n",
       "2   0.3392  \n",
       "3   0.2330  \n",
       "4   0.0606  "
      ]
     },
     "execution_count": 18,
     "metadata": {},
     "output_type": "execute_result"
    }
   ],
   "source": [
    "print(data.shape)\n",
    "data[:5]"
   ]
  },
  {
   "cell_type": "code",
   "execution_count": 19,
   "metadata": {
    "scrolled": true
   },
   "outputs": [
    {
     "data": {
      "text/html": [
       "<div>\n",
       "<style scoped>\n",
       "    .dataframe tbody tr th:only-of-type {\n",
       "        vertical-align: middle;\n",
       "    }\n",
       "\n",
       "    .dataframe tbody tr th {\n",
       "        vertical-align: top;\n",
       "    }\n",
       "\n",
       "    .dataframe thead th {\n",
       "        text-align: right;\n",
       "    }\n",
       "</style>\n",
       "<table border=\"1\" class=\"dataframe\">\n",
       "  <thead>\n",
       "    <tr style=\"text-align: right;\">\n",
       "      <th></th>\n",
       "      <th>No</th>\n",
       "      <th>EvaporatingTemp</th>\n",
       "      <th>CondensingTemp</th>\n",
       "      <th>IGVOpening</th>\n",
       "      <th>HotGasFraction</th>\n",
       "      <th>RPM</th>\n",
       "      <th>Capacity</th>\n",
       "      <th>InputPower</th>\n",
       "      <th>FirstTopHead</th>\n",
       "      <th>SecondTopHead</th>\n",
       "      <th>1stCompHead</th>\n",
       "      <th>2ndCompHead</th>\n",
       "      <th>TotalHead</th>\n",
       "      <th>1stCompSurgeMargin</th>\n",
       "      <th>2ndCompSurgeMargin</th>\n",
       "      <th>VFR_1st</th>\n",
       "      <th>VFR_2nd</th>\n",
       "    </tr>\n",
       "  </thead>\n",
       "  <tbody>\n",
       "    <tr>\n",
       "      <th>0</th>\n",
       "      <td>2</td>\n",
       "      <td>2.0</td>\n",
       "      <td>19.0</td>\n",
       "      <td>80</td>\n",
       "      <td>0</td>\n",
       "      <td>15001</td>\n",
       "      <td>543.8</td>\n",
       "      <td>274.61</td>\n",
       "      <td>1664.8</td>\n",
       "      <td>1155.8</td>\n",
       "      <td>1072.7</td>\n",
       "      <td>136.3</td>\n",
       "      <td>1209.0</td>\n",
       "      <td>592.1</td>\n",
       "      <td>1019.5</td>\n",
       "      <td>0.7060</td>\n",
       "      <td>0.4532</td>\n",
       "    </tr>\n",
       "    <tr>\n",
       "      <th>1</th>\n",
       "      <td>3</td>\n",
       "      <td>2.0</td>\n",
       "      <td>19.0</td>\n",
       "      <td>60</td>\n",
       "      <td>0</td>\n",
       "      <td>15001</td>\n",
       "      <td>479.5</td>\n",
       "      <td>224.12</td>\n",
       "      <td>1585.0</td>\n",
       "      <td>1100.4</td>\n",
       "      <td>1016.9</td>\n",
       "      <td>192.4</td>\n",
       "      <td>1209.4</td>\n",
       "      <td>568.1</td>\n",
       "      <td>907.9</td>\n",
       "      <td>0.6183</td>\n",
       "      <td>0.4088</td>\n",
       "    </tr>\n",
       "    <tr>\n",
       "      <th>2</th>\n",
       "      <td>4</td>\n",
       "      <td>2.0</td>\n",
       "      <td>19.0</td>\n",
       "      <td>40</td>\n",
       "      <td>0</td>\n",
       "      <td>15001</td>\n",
       "      <td>389.1</td>\n",
       "      <td>186.39</td>\n",
       "      <td>1550.7</td>\n",
       "      <td>1077.4</td>\n",
       "      <td>979.7</td>\n",
       "      <td>234.1</td>\n",
       "      <td>1213.8</td>\n",
       "      <td>571.0</td>\n",
       "      <td>843.3</td>\n",
       "      <td>0.4995</td>\n",
       "      <td>0.3392</td>\n",
       "    </tr>\n",
       "  </tbody>\n",
       "</table>\n",
       "</div>"
      ],
      "text/plain": [
       "   No  EvaporatingTemp  CondensingTemp  IGVOpening  HotGasFraction    RPM  \\\n",
       "0   2              2.0            19.0          80               0  15001   \n",
       "1   3              2.0            19.0          60               0  15001   \n",
       "2   4              2.0            19.0          40               0  15001   \n",
       "\n",
       "   Capacity  InputPower  FirstTopHead  SecondTopHead  1stCompHead  \\\n",
       "0     543.8      274.61        1664.8         1155.8       1072.7   \n",
       "1     479.5      224.12        1585.0         1100.4       1016.9   \n",
       "2     389.1      186.39        1550.7         1077.4        979.7   \n",
       "\n",
       "   2ndCompHead  TotalHead  1stCompSurgeMargin  2ndCompSurgeMargin  VFR_1st  \\\n",
       "0        136.3     1209.0               592.1              1019.5   0.7060   \n",
       "1        192.4     1209.4               568.1               907.9   0.6183   \n",
       "2        234.1     1213.8               571.0               843.3   0.4995   \n",
       "\n",
       "   VFR_2nd  \n",
       "0   0.4532  \n",
       "1   0.4088  \n",
       "2   0.3392  "
      ]
     },
     "execution_count": 19,
     "metadata": {},
     "output_type": "execute_result"
    }
   ],
   "source": [
    "# 사본 사용 (원본 백업)\n",
    "df = data.copy()\n",
    "df[:3]"
   ]
  },
  {
   "cell_type": "code",
   "execution_count": 20,
   "metadata": {},
   "outputs": [],
   "source": [
    "from sklearn.model_selection import train_test_split\n",
    "from sklearn.linear_model import LinearRegression\n",
    "\n",
    "model = LinearRegression()    "
   ]
  },
  {
   "cell_type": "code",
   "execution_count": 21,
   "metadata": {},
   "outputs": [
    {
     "data": {
      "text/plain": [
       "0.9237057829706552"
      ]
     },
     "execution_count": 21,
     "metadata": {},
     "output_type": "execute_result"
    }
   ],
   "source": [
    "# 1차 회귀식 적용\n",
    "X = df[[\"EvaporatingTemp\", \"CondensingTemp\", \"IGVOpening\", \"RPM\"]]\n",
    "y = df.Capacity.values\n",
    "X_train, X_test, y_train, y_test = train_test_split(X, y)\n",
    "model = LinearRegression()    # (1) 모델 생성\n",
    "model.fit(X_train, y_train)   # (2) 학습\n",
    "model.score(X_test, y_test)   # (3) 이용, 성능 평가"
   ]
  },
  {
   "cell_type": "code",
   "execution_count": 22,
   "metadata": {},
   "outputs": [
    {
     "data": {
      "text/html": [
       "<div>\n",
       "<style scoped>\n",
       "    .dataframe tbody tr th:only-of-type {\n",
       "        vertical-align: middle;\n",
       "    }\n",
       "\n",
       "    .dataframe tbody tr th {\n",
       "        vertical-align: top;\n",
       "    }\n",
       "\n",
       "    .dataframe thead th {\n",
       "        text-align: right;\n",
       "    }\n",
       "</style>\n",
       "<table border=\"1\" class=\"dataframe\">\n",
       "  <thead>\n",
       "    <tr style=\"text-align: right;\">\n",
       "      <th></th>\n",
       "      <th>EvaporatingTemp</th>\n",
       "      <th>CondensingTemp</th>\n",
       "      <th>IGVOpening</th>\n",
       "      <th>RPM</th>\n",
       "    </tr>\n",
       "  </thead>\n",
       "  <tbody>\n",
       "    <tr>\n",
       "      <th>0</th>\n",
       "      <td>2.0</td>\n",
       "      <td>19.0</td>\n",
       "      <td>80</td>\n",
       "      <td>15001</td>\n",
       "    </tr>\n",
       "    <tr>\n",
       "      <th>1</th>\n",
       "      <td>2.0</td>\n",
       "      <td>19.0</td>\n",
       "      <td>60</td>\n",
       "      <td>15001</td>\n",
       "    </tr>\n",
       "    <tr>\n",
       "      <th>2</th>\n",
       "      <td>2.0</td>\n",
       "      <td>19.0</td>\n",
       "      <td>40</td>\n",
       "      <td>15001</td>\n",
       "    </tr>\n",
       "    <tr>\n",
       "      <th>3</th>\n",
       "      <td>2.0</td>\n",
       "      <td>19.0</td>\n",
       "      <td>20</td>\n",
       "      <td>15001</td>\n",
       "    </tr>\n",
       "    <tr>\n",
       "      <th>4</th>\n",
       "      <td>2.0</td>\n",
       "      <td>19.0</td>\n",
       "      <td>0</td>\n",
       "      <td>15001</td>\n",
       "    </tr>\n",
       "  </tbody>\n",
       "</table>\n",
       "</div>"
      ],
      "text/plain": [
       "   EvaporatingTemp  CondensingTemp  IGVOpening    RPM\n",
       "0              2.0            19.0          80  15001\n",
       "1              2.0            19.0          60  15001\n",
       "2              2.0            19.0          40  15001\n",
       "3              2.0            19.0          20  15001\n",
       "4              2.0            19.0           0  15001"
      ]
     },
     "execution_count": 22,
     "metadata": {},
     "output_type": "execute_result"
    }
   ],
   "source": [
    "X[:5]"
   ]
  },
  {
   "cell_type": "code",
   "execution_count": 23,
   "metadata": {},
   "outputs": [
    {
     "data": {
      "text/plain": [
       "28.993372539354617"
      ]
     },
     "execution_count": 23,
     "metadata": {},
     "output_type": "execute_result"
    }
   ],
   "source": [
    "y_pred = model.predict(X_test)\n",
    "\n",
    "# MAE\n",
    "from sklearn.metrics import mean_absolute_error, mean_squared_error\n",
    "mean_absolute_error(y_test, y_pred)"
   ]
  },
  {
   "cell_type": "code",
   "execution_count": 24,
   "metadata": {},
   "outputs": [
    {
     "data": {
      "text/plain": [
       "41.44867295451724"
      ]
     },
     "execution_count": 24,
     "metadata": {},
     "output_type": "execute_result"
    }
   ],
   "source": [
    "# RMSE를 얻으려면 squared=False를 설정한다.\n",
    "mean_squared_error(y_test, y_pred, squared=False)"
   ]
  },
  {
   "cell_type": "code",
   "execution_count": 25,
   "metadata": {},
   "outputs": [
    {
     "data": {
      "text/plain": [
       "211.8811061498583"
      ]
     },
     "execution_count": 25,
     "metadata": {},
     "output_type": "execute_result"
    }
   ],
   "source": [
    "error = np.abs(y_pred - y_test)\n",
    "error.max()"
   ]
  },
  {
   "cell_type": "code",
   "execution_count": 36,
   "metadata": {},
   "outputs": [
    {
     "data": {
      "text/plain": [
       "(      EvaporatingTemp  CondensingTemp  IGVOpening    RPM\n",
       " 1140              8.3            31.8          20  12601\n",
       " 1163              8.3            36.9         100  13801\n",
       " 38                2.0            21.6          40  12601\n",
       " 409               4.7            19.0          60  11401\n",
       " 1031              8.3            19.0          40   9001\n",
       " ...               ...             ...         ...    ...\n",
       " 1468             11.0            34.3          60  15001\n",
       " 1317              9.2            34.3          60  12601\n",
       " 152               2.9            21.6          40  15001\n",
       " 419               4.7            19.0          60   9001\n",
       " 110               2.0            36.9         100  15001\n",
       " \n",
       " [1143 rows x 4 columns],\n",
       " array([[1.00000000e+00, 8.30000000e+00, 3.18000000e+01, ...,\n",
       "         4.00000000e+02, 2.52020000e+05, 1.58785201e+08],\n",
       "        [1.00000000e+00, 8.30000000e+00, 3.69000000e+01, ...,\n",
       "         1.00000000e+04, 1.38010000e+06, 1.90467601e+08],\n",
       "        [1.00000000e+00, 2.00000000e+00, 2.16000000e+01, ...,\n",
       "         1.60000000e+03, 5.04040000e+05, 1.58785201e+08],\n",
       "        ...,\n",
       "        [1.00000000e+00, 2.90000000e+00, 2.16000000e+01, ...,\n",
       "         1.60000000e+03, 6.00040000e+05, 2.25030001e+08],\n",
       "        [1.00000000e+00, 4.70000000e+00, 1.90000000e+01, ...,\n",
       "         3.60000000e+03, 5.40060000e+05, 8.10180010e+07],\n",
       "        [1.00000000e+00, 2.00000000e+00, 3.69000000e+01, ...,\n",
       "         1.00000000e+04, 1.50010000e+06, 2.25030001e+08]]),\n",
       "       EvaporatingTemp  CondensingTemp  IGVOpening    RPM\n",
       " 385               3.8            36.9          60  13801\n",
       " 370               3.8            34.3          60  15001\n",
       " 119               2.0            39.4          60  15001\n",
       " 400               4.7            19.0          40  13801\n",
       " 402               4.7            19.0           0  13801\n",
       " ...               ...             ...         ...    ...\n",
       " 898               7.4            24.1          60  15001\n",
       " 308               3.8            24.1          20  15001\n",
       " 413               4.7            19.0          80  10201\n",
       " 1142              8.3            31.8          80  11401\n",
       " 1205              9.2            21.6          20  11401\n",
       " \n",
       " [381 rows x 4 columns],\n",
       " array([[1.00000000e+00, 3.80000000e+00, 3.69000000e+01, ...,\n",
       "         3.60000000e+03, 8.28060000e+05, 1.90467601e+08],\n",
       "        [1.00000000e+00, 3.80000000e+00, 3.43000000e+01, ...,\n",
       "         3.60000000e+03, 9.00060000e+05, 2.25030001e+08],\n",
       "        [1.00000000e+00, 2.00000000e+00, 3.94000000e+01, ...,\n",
       "         3.60000000e+03, 9.00060000e+05, 2.25030001e+08],\n",
       "        ...,\n",
       "        [1.00000000e+00, 4.70000000e+00, 1.90000000e+01, ...,\n",
       "         6.40000000e+03, 8.16080000e+05, 1.04060401e+08],\n",
       "        [1.00000000e+00, 8.30000000e+00, 3.18000000e+01, ...,\n",
       "         6.40000000e+03, 9.12080000e+05, 1.29982801e+08],\n",
       "        [1.00000000e+00, 9.20000000e+00, 2.16000000e+01, ...,\n",
       "         4.00000000e+02, 2.28020000e+05, 1.29982801e+08]]))"
      ]
     },
     "execution_count": 36,
     "metadata": {},
     "output_type": "execute_result"
    }
   ],
   "source": [
    "from sklearn.preprocessing import PolynomialFeatures\n",
    "poly = PolynomialFeatures(degree = 2)\n",
    "X_poly_train = poly.fit_transform(X_train)   # (2) 학습\n",
    "X_poly_test = poly.fit_transform(X_test)     # (3) 성능평가\n",
    "X_train, X_poly_train, X_test, X_poly_test"
   ]
  },
  {
   "cell_type": "code",
   "execution_count": 37,
   "metadata": {
    "scrolled": true
   },
   "outputs": [],
   "source": [
    "model_poly_train = LinearRegression()\n",
    "model_poly_test = LinearRegression()\n"
   ]
  },
  {
   "cell_type": "code",
   "execution_count": 38,
   "metadata": {},
   "outputs": [
    {
     "data": {
      "text/plain": [
       "LinearRegression()"
      ]
     },
     "execution_count": 38,
     "metadata": {},
     "output_type": "execute_result"
    }
   ],
   "source": [
    "model_poly_train.fit(X_poly_train, y_train)"
   ]
  },
  {
   "cell_type": "code",
   "execution_count": null,
   "metadata": {},
   "outputs": [],
   "source": [
    "model.score(X_test, y_test)"
   ]
  }
 ],
 "metadata": {
  "kernelspec": {
   "display_name": "Python 3",
   "language": "python",
   "name": "python3"
  },
  "language_info": {
   "codemirror_mode": {
    "name": "ipython",
    "version": 3
   },
   "file_extension": ".py",
   "mimetype": "text/x-python",
   "name": "python",
   "nbconvert_exporter": "python",
   "pygments_lexer": "ipython3",
   "version": "3.8.5"
  }
 },
 "nbformat": 4,
 "nbformat_minor": 4
}
