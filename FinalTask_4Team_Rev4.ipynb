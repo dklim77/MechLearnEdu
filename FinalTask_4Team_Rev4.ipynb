{
  "nbformat": 4,
  "nbformat_minor": 0,
  "metadata": {
    "kernelspec": {
      "display_name": "Python 3",
      "language": "python",
      "name": "python3"
    },
    "language_info": {
      "codemirror_mode": {
        "name": "ipython",
        "version": 3
      },
      "file_extension": ".py",
      "mimetype": "text/x-python",
      "name": "python",
      "nbconvert_exporter": "python",
      "pygments_lexer": "ipython3",
      "version": "3.8.5"
    },
    "colab": {
      "name": "FinalTask_4Team_Rev2.ipynb",
      "provenance": []
    }
  },
  "cells": [
    {
      "cell_type": "code",
      "metadata": {
        "id": "dIErL4bB3Cfq"
      },
      "source": [
        "import numpy as np\n",
        "import pandas as pd\n",
        "import matplotlib.pyplot as plt\n",
        "%matplotlib inline\n",
        "%config InlineBackend.figure_format = 'retina'"
      ],
      "execution_count": 126,
      "outputs": []
    },
    {
      "cell_type": "code",
      "metadata": {
        "id": "AG7I7NEe3Cfs",
        "colab": {
          "base_uri": "https://localhost:8080/"
        },
        "outputId": "cd5c7478-8e9b-4c5f-fb42-3d4d9075cc5e"
      },
      "source": [
        "#data = pd.read_excel(\"D:\\MAGVI_500RT_RawData.xlsx\")\n",
        "url = \"https://github.com/dklim77/MechLearnEdu/blob/master/MAGVI_500RT_RawData.xlsx?raw=true\"\n",
        "data = pd.read_excel(url)\n",
        "data.info()"
      ],
      "execution_count": 127,
      "outputs": [
        {
          "output_type": "stream",
          "text": [
            "<class 'pandas.core.frame.DataFrame'>\n",
            "RangeIndex: 1524 entries, 0 to 1523\n",
            "Data columns (total 17 columns):\n",
            " #   Column              Non-Null Count  Dtype  \n",
            "---  ------              --------------  -----  \n",
            " 0   No                  1524 non-null   int64  \n",
            " 1   EvaporatingTemp     1524 non-null   float64\n",
            " 2   CondensingTemp      1524 non-null   float64\n",
            " 3   IGVOpening          1524 non-null   int64  \n",
            " 4   HotGasFraction      1524 non-null   int64  \n",
            " 5   RPM                 1524 non-null   int64  \n",
            " 6   Capacity            1524 non-null   float64\n",
            " 7   InputPower          1524 non-null   float64\n",
            " 8   FirstTopHead        1524 non-null   float64\n",
            " 9   SecondTopHead       1524 non-null   float64\n",
            " 10  1stCompHead         1524 non-null   float64\n",
            " 11  2ndCompHead         1524 non-null   float64\n",
            " 12  TotalHead           1524 non-null   float64\n",
            " 13  1stCompSurgeMargin  1524 non-null   float64\n",
            " 14  2ndCompSurgeMargin  1524 non-null   float64\n",
            " 15  VFR_1st             1524 non-null   float64\n",
            " 16  VFR_2nd             1524 non-null   float64\n",
            "dtypes: float64(13), int64(4)\n",
            "memory usage: 202.5 KB\n"
          ],
          "name": "stdout"
        }
      ]
    },
    {
      "cell_type": "code",
      "metadata": {
        "id": "XG2Z909k3Cft",
        "colab": {
          "base_uri": "https://localhost:8080/",
          "height": 222
        },
        "outputId": "c01c2594-cdd9-4d41-ae8f-8bdcf5a590d3"
      },
      "source": [
        "print(data.shape)\n",
        "data[:5]"
      ],
      "execution_count": 128,
      "outputs": [
        {
          "output_type": "stream",
          "text": [
            "(1524, 17)\n"
          ],
          "name": "stdout"
        },
        {
          "output_type": "execute_result",
          "data": {
            "text/html": [
              "<div>\n",
              "<style scoped>\n",
              "    .dataframe tbody tr th:only-of-type {\n",
              "        vertical-align: middle;\n",
              "    }\n",
              "\n",
              "    .dataframe tbody tr th {\n",
              "        vertical-align: top;\n",
              "    }\n",
              "\n",
              "    .dataframe thead th {\n",
              "        text-align: right;\n",
              "    }\n",
              "</style>\n",
              "<table border=\"1\" class=\"dataframe\">\n",
              "  <thead>\n",
              "    <tr style=\"text-align: right;\">\n",
              "      <th></th>\n",
              "      <th>No</th>\n",
              "      <th>EvaporatingTemp</th>\n",
              "      <th>CondensingTemp</th>\n",
              "      <th>IGVOpening</th>\n",
              "      <th>HotGasFraction</th>\n",
              "      <th>RPM</th>\n",
              "      <th>Capacity</th>\n",
              "      <th>InputPower</th>\n",
              "      <th>FirstTopHead</th>\n",
              "      <th>SecondTopHead</th>\n",
              "      <th>1stCompHead</th>\n",
              "      <th>2ndCompHead</th>\n",
              "      <th>TotalHead</th>\n",
              "      <th>1stCompSurgeMargin</th>\n",
              "      <th>2ndCompSurgeMargin</th>\n",
              "      <th>VFR_1st</th>\n",
              "      <th>VFR_2nd</th>\n",
              "    </tr>\n",
              "  </thead>\n",
              "  <tbody>\n",
              "    <tr>\n",
              "      <th>0</th>\n",
              "      <td>2</td>\n",
              "      <td>2.0</td>\n",
              "      <td>19.0</td>\n",
              "      <td>80</td>\n",
              "      <td>0</td>\n",
              "      <td>15001</td>\n",
              "      <td>543.8</td>\n",
              "      <td>274.61</td>\n",
              "      <td>1664.8</td>\n",
              "      <td>1155.8</td>\n",
              "      <td>1072.7</td>\n",
              "      <td>136.3</td>\n",
              "      <td>1209.0</td>\n",
              "      <td>592.1</td>\n",
              "      <td>1019.5</td>\n",
              "      <td>0.7060</td>\n",
              "      <td>0.4532</td>\n",
              "    </tr>\n",
              "    <tr>\n",
              "      <th>1</th>\n",
              "      <td>3</td>\n",
              "      <td>2.0</td>\n",
              "      <td>19.0</td>\n",
              "      <td>60</td>\n",
              "      <td>0</td>\n",
              "      <td>15001</td>\n",
              "      <td>479.5</td>\n",
              "      <td>224.12</td>\n",
              "      <td>1585.0</td>\n",
              "      <td>1100.4</td>\n",
              "      <td>1016.9</td>\n",
              "      <td>192.4</td>\n",
              "      <td>1209.4</td>\n",
              "      <td>568.1</td>\n",
              "      <td>907.9</td>\n",
              "      <td>0.6183</td>\n",
              "      <td>0.4088</td>\n",
              "    </tr>\n",
              "    <tr>\n",
              "      <th>2</th>\n",
              "      <td>4</td>\n",
              "      <td>2.0</td>\n",
              "      <td>19.0</td>\n",
              "      <td>40</td>\n",
              "      <td>0</td>\n",
              "      <td>15001</td>\n",
              "      <td>389.1</td>\n",
              "      <td>186.39</td>\n",
              "      <td>1550.7</td>\n",
              "      <td>1077.4</td>\n",
              "      <td>979.7</td>\n",
              "      <td>234.1</td>\n",
              "      <td>1213.8</td>\n",
              "      <td>571.0</td>\n",
              "      <td>843.3</td>\n",
              "      <td>0.4995</td>\n",
              "      <td>0.3392</td>\n",
              "    </tr>\n",
              "    <tr>\n",
              "      <th>3</th>\n",
              "      <td>5</td>\n",
              "      <td>2.0</td>\n",
              "      <td>19.0</td>\n",
              "      <td>20</td>\n",
              "      <td>0</td>\n",
              "      <td>15001</td>\n",
              "      <td>254.7</td>\n",
              "      <td>146.55</td>\n",
              "      <td>1512.2</td>\n",
              "      <td>1053.8</td>\n",
              "      <td>931.7</td>\n",
              "      <td>300.5</td>\n",
              "      <td>1232.1</td>\n",
              "      <td>580.5</td>\n",
              "      <td>753.4</td>\n",
              "      <td>0.3253</td>\n",
              "      <td>0.2330</td>\n",
              "    </tr>\n",
              "    <tr>\n",
              "      <th>4</th>\n",
              "      <td>6</td>\n",
              "      <td>2.0</td>\n",
              "      <td>19.0</td>\n",
              "      <td>0</td>\n",
              "      <td>0</td>\n",
              "      <td>15001</td>\n",
              "      <td>58.3</td>\n",
              "      <td>94.05</td>\n",
              "      <td>1095.8</td>\n",
              "      <td>771.2</td>\n",
              "      <td>1060.0</td>\n",
              "      <td>292.3</td>\n",
              "      <td>1352.3</td>\n",
              "      <td>35.8</td>\n",
              "      <td>478.9</td>\n",
              "      <td>0.0760</td>\n",
              "      <td>0.0606</td>\n",
              "    </tr>\n",
              "  </tbody>\n",
              "</table>\n",
              "</div>"
            ],
            "text/plain": [
              "   No  EvaporatingTemp  CondensingTemp  ...  2ndCompSurgeMargin  VFR_1st  VFR_2nd\n",
              "0   2              2.0            19.0  ...              1019.5   0.7060   0.4532\n",
              "1   3              2.0            19.0  ...               907.9   0.6183   0.4088\n",
              "2   4              2.0            19.0  ...               843.3   0.4995   0.3392\n",
              "3   5              2.0            19.0  ...               753.4   0.3253   0.2330\n",
              "4   6              2.0            19.0  ...               478.9   0.0760   0.0606\n",
              "\n",
              "[5 rows x 17 columns]"
            ]
          },
          "metadata": {
            "tags": []
          },
          "execution_count": 128
        }
      ]
    },
    {
      "cell_type": "code",
      "metadata": {
        "id": "rNX4LoyP3Cfu",
        "colab": {
          "base_uri": "https://localhost:8080/",
          "height": 142
        },
        "outputId": "2b5a6f92-229d-497c-9dd4-58436a17f89f"
      },
      "source": [
        "# 사본 사용 (원본 백업)\n",
        "df = data.copy()\n",
        "df[:3]"
      ],
      "execution_count": 129,
      "outputs": [
        {
          "output_type": "execute_result",
          "data": {
            "text/html": [
              "<div>\n",
              "<style scoped>\n",
              "    .dataframe tbody tr th:only-of-type {\n",
              "        vertical-align: middle;\n",
              "    }\n",
              "\n",
              "    .dataframe tbody tr th {\n",
              "        vertical-align: top;\n",
              "    }\n",
              "\n",
              "    .dataframe thead th {\n",
              "        text-align: right;\n",
              "    }\n",
              "</style>\n",
              "<table border=\"1\" class=\"dataframe\">\n",
              "  <thead>\n",
              "    <tr style=\"text-align: right;\">\n",
              "      <th></th>\n",
              "      <th>No</th>\n",
              "      <th>EvaporatingTemp</th>\n",
              "      <th>CondensingTemp</th>\n",
              "      <th>IGVOpening</th>\n",
              "      <th>HotGasFraction</th>\n",
              "      <th>RPM</th>\n",
              "      <th>Capacity</th>\n",
              "      <th>InputPower</th>\n",
              "      <th>FirstTopHead</th>\n",
              "      <th>SecondTopHead</th>\n",
              "      <th>1stCompHead</th>\n",
              "      <th>2ndCompHead</th>\n",
              "      <th>TotalHead</th>\n",
              "      <th>1stCompSurgeMargin</th>\n",
              "      <th>2ndCompSurgeMargin</th>\n",
              "      <th>VFR_1st</th>\n",
              "      <th>VFR_2nd</th>\n",
              "    </tr>\n",
              "  </thead>\n",
              "  <tbody>\n",
              "    <tr>\n",
              "      <th>0</th>\n",
              "      <td>2</td>\n",
              "      <td>2.0</td>\n",
              "      <td>19.0</td>\n",
              "      <td>80</td>\n",
              "      <td>0</td>\n",
              "      <td>15001</td>\n",
              "      <td>543.8</td>\n",
              "      <td>274.61</td>\n",
              "      <td>1664.8</td>\n",
              "      <td>1155.8</td>\n",
              "      <td>1072.7</td>\n",
              "      <td>136.3</td>\n",
              "      <td>1209.0</td>\n",
              "      <td>592.1</td>\n",
              "      <td>1019.5</td>\n",
              "      <td>0.7060</td>\n",
              "      <td>0.4532</td>\n",
              "    </tr>\n",
              "    <tr>\n",
              "      <th>1</th>\n",
              "      <td>3</td>\n",
              "      <td>2.0</td>\n",
              "      <td>19.0</td>\n",
              "      <td>60</td>\n",
              "      <td>0</td>\n",
              "      <td>15001</td>\n",
              "      <td>479.5</td>\n",
              "      <td>224.12</td>\n",
              "      <td>1585.0</td>\n",
              "      <td>1100.4</td>\n",
              "      <td>1016.9</td>\n",
              "      <td>192.4</td>\n",
              "      <td>1209.4</td>\n",
              "      <td>568.1</td>\n",
              "      <td>907.9</td>\n",
              "      <td>0.6183</td>\n",
              "      <td>0.4088</td>\n",
              "    </tr>\n",
              "    <tr>\n",
              "      <th>2</th>\n",
              "      <td>4</td>\n",
              "      <td>2.0</td>\n",
              "      <td>19.0</td>\n",
              "      <td>40</td>\n",
              "      <td>0</td>\n",
              "      <td>15001</td>\n",
              "      <td>389.1</td>\n",
              "      <td>186.39</td>\n",
              "      <td>1550.7</td>\n",
              "      <td>1077.4</td>\n",
              "      <td>979.7</td>\n",
              "      <td>234.1</td>\n",
              "      <td>1213.8</td>\n",
              "      <td>571.0</td>\n",
              "      <td>843.3</td>\n",
              "      <td>0.4995</td>\n",
              "      <td>0.3392</td>\n",
              "    </tr>\n",
              "  </tbody>\n",
              "</table>\n",
              "</div>"
            ],
            "text/plain": [
              "   No  EvaporatingTemp  CondensingTemp  ...  2ndCompSurgeMargin  VFR_1st  VFR_2nd\n",
              "0   2              2.0            19.0  ...              1019.5   0.7060   0.4532\n",
              "1   3              2.0            19.0  ...               907.9   0.6183   0.4088\n",
              "2   4              2.0            19.0  ...               843.3   0.4995   0.3392\n",
              "\n",
              "[3 rows x 17 columns]"
            ]
          },
          "metadata": {
            "tags": []
          },
          "execution_count": 129
        }
      ]
    },
    {
      "cell_type": "code",
      "metadata": {
        "id": "xCxNkrvb3Cfu",
        "colab": {
          "base_uri": "https://localhost:8080/",
          "height": 162
        },
        "outputId": "8e76d27a-d8b6-43b5-d131-522ecf36dadd"
      },
      "source": [
        "# 스케일링\n",
        "\n",
        "# 표준 스케일링\n",
        "from sklearn.preprocessing import StandardScaler\n",
        "scale = StandardScaler()\n",
        "df[[\"EvaporatingTemp_sc\",\"CondensingTemp_sc\",\"IGVOpening_sc\",\"RPM_sc\"]] = scale.fit_transform(df[[\"EvaporatingTemp\",\"CondensingTemp\",\"IGVOpening\",\"RPM\"]])\n",
        "\n",
        "# Min Max 스케일링\n",
        "from sklearn.preprocessing import MinMaxScaler\n",
        "minmax = MinMaxScaler()\n",
        "df[[\"EvaporatingTemp_mmsc\",\"CondensingTemp_mmsc\",\"IGVOpening_mmsc\",\"RPM_mmsc\"]] = minmax.fit_transform(df[[\"EvaporatingTemp\",\"CondensingTemp\",\"IGVOpening\",\"RPM\"]])\n",
        "\n",
        "df[:3]"
      ],
      "execution_count": 130,
      "outputs": [
        {
          "output_type": "execute_result",
          "data": {
            "text/html": [
              "<div>\n",
              "<style scoped>\n",
              "    .dataframe tbody tr th:only-of-type {\n",
              "        vertical-align: middle;\n",
              "    }\n",
              "\n",
              "    .dataframe tbody tr th {\n",
              "        vertical-align: top;\n",
              "    }\n",
              "\n",
              "    .dataframe thead th {\n",
              "        text-align: right;\n",
              "    }\n",
              "</style>\n",
              "<table border=\"1\" class=\"dataframe\">\n",
              "  <thead>\n",
              "    <tr style=\"text-align: right;\">\n",
              "      <th></th>\n",
              "      <th>No</th>\n",
              "      <th>EvaporatingTemp</th>\n",
              "      <th>CondensingTemp</th>\n",
              "      <th>IGVOpening</th>\n",
              "      <th>HotGasFraction</th>\n",
              "      <th>RPM</th>\n",
              "      <th>Capacity</th>\n",
              "      <th>InputPower</th>\n",
              "      <th>FirstTopHead</th>\n",
              "      <th>SecondTopHead</th>\n",
              "      <th>1stCompHead</th>\n",
              "      <th>2ndCompHead</th>\n",
              "      <th>TotalHead</th>\n",
              "      <th>1stCompSurgeMargin</th>\n",
              "      <th>2ndCompSurgeMargin</th>\n",
              "      <th>VFR_1st</th>\n",
              "      <th>VFR_2nd</th>\n",
              "      <th>EvaporatingTemp_sc</th>\n",
              "      <th>CondensingTemp_sc</th>\n",
              "      <th>IGVOpening_sc</th>\n",
              "      <th>RPM_sc</th>\n",
              "      <th>EvaporatingTemp_mmsc</th>\n",
              "      <th>CondensingTemp_mmsc</th>\n",
              "      <th>IGVOpening_mmsc</th>\n",
              "      <th>RPM_mmsc</th>\n",
              "    </tr>\n",
              "  </thead>\n",
              "  <tbody>\n",
              "    <tr>\n",
              "      <th>0</th>\n",
              "      <td>2</td>\n",
              "      <td>2.0</td>\n",
              "      <td>19.0</td>\n",
              "      <td>80</td>\n",
              "      <td>0</td>\n",
              "      <td>15001</td>\n",
              "      <td>543.8</td>\n",
              "      <td>274.61</td>\n",
              "      <td>1664.8</td>\n",
              "      <td>1155.8</td>\n",
              "      <td>1072.7</td>\n",
              "      <td>136.3</td>\n",
              "      <td>1209.0</td>\n",
              "      <td>592.1</td>\n",
              "      <td>1019.5</td>\n",
              "      <td>0.7060</td>\n",
              "      <td>0.4532</td>\n",
              "      <td>-1.622635</td>\n",
              "      <td>-1.391129</td>\n",
              "      <td>0.668366</td>\n",
              "      <td>1.095127</td>\n",
              "      <td>0.0</td>\n",
              "      <td>0.0</td>\n",
              "      <td>0.8</td>\n",
              "      <td>1.0</td>\n",
              "    </tr>\n",
              "    <tr>\n",
              "      <th>1</th>\n",
              "      <td>3</td>\n",
              "      <td>2.0</td>\n",
              "      <td>19.0</td>\n",
              "      <td>60</td>\n",
              "      <td>0</td>\n",
              "      <td>15001</td>\n",
              "      <td>479.5</td>\n",
              "      <td>224.12</td>\n",
              "      <td>1585.0</td>\n",
              "      <td>1100.4</td>\n",
              "      <td>1016.9</td>\n",
              "      <td>192.4</td>\n",
              "      <td>1209.4</td>\n",
              "      <td>568.1</td>\n",
              "      <td>907.9</td>\n",
              "      <td>0.6183</td>\n",
              "      <td>0.4088</td>\n",
              "      <td>-1.622635</td>\n",
              "      <td>-1.391129</td>\n",
              "      <td>-0.019406</td>\n",
              "      <td>1.095127</td>\n",
              "      <td>0.0</td>\n",
              "      <td>0.0</td>\n",
              "      <td>0.6</td>\n",
              "      <td>1.0</td>\n",
              "    </tr>\n",
              "    <tr>\n",
              "      <th>2</th>\n",
              "      <td>4</td>\n",
              "      <td>2.0</td>\n",
              "      <td>19.0</td>\n",
              "      <td>40</td>\n",
              "      <td>0</td>\n",
              "      <td>15001</td>\n",
              "      <td>389.1</td>\n",
              "      <td>186.39</td>\n",
              "      <td>1550.7</td>\n",
              "      <td>1077.4</td>\n",
              "      <td>979.7</td>\n",
              "      <td>234.1</td>\n",
              "      <td>1213.8</td>\n",
              "      <td>571.0</td>\n",
              "      <td>843.3</td>\n",
              "      <td>0.4995</td>\n",
              "      <td>0.3392</td>\n",
              "      <td>-1.622635</td>\n",
              "      <td>-1.391129</td>\n",
              "      <td>-0.707177</td>\n",
              "      <td>1.095127</td>\n",
              "      <td>0.0</td>\n",
              "      <td>0.0</td>\n",
              "      <td>0.4</td>\n",
              "      <td>1.0</td>\n",
              "    </tr>\n",
              "  </tbody>\n",
              "</table>\n",
              "</div>"
            ],
            "text/plain": [
              "   No  EvaporatingTemp  ...  IGVOpening_mmsc  RPM_mmsc\n",
              "0   2              2.0  ...              0.8       1.0\n",
              "1   3              2.0  ...              0.6       1.0\n",
              "2   4              2.0  ...              0.4       1.0\n",
              "\n",
              "[3 rows x 25 columns]"
            ]
          },
          "metadata": {
            "tags": []
          },
          "execution_count": 130
        }
      ]
    },
    {
      "cell_type": "code",
      "metadata": {
        "scrolled": true,
        "id": "mA3UWgcq3Cfv",
        "colab": {
          "base_uri": "https://localhost:8080/"
        },
        "outputId": "577d7fca-2286-4def-8042-f220a2d329a6"
      },
      "source": [
        "#X = df[[\"EvaporatingTemp\", \"CondensingTemp\", \"IGVOpening\", \"RPM\"]]\n",
        "# 표준 스케일링 적용\n",
        "X = df[[\"EvaporatingTemp_sc\",\"CondensingTemp_sc\",\"IGVOpening_sc\",\"RPM_sc\"]]\n",
        "\n",
        "# Min Max 스케일링 적용\n",
        "#X = df[[\"EvaporatingTemp_mmsc\",\"CondensingTemp_mmsc\",\"IGVOpening_mmsc\",\"RPM_mmsc\"]]\n",
        "\n",
        "y = df[[\"Capacity\", \"InputPower\", \"FirstTopHead\", \"SecondTopHead\", \"1stCompHead\", \"2ndCompHead\"]]\n",
        "X[:5], y[:5]\n"
      ],
      "execution_count": 131,
      "outputs": [
        {
          "output_type": "execute_result",
          "data": {
            "text/plain": [
              "(   EvaporatingTemp_sc  CondensingTemp_sc  IGVOpening_sc    RPM_sc\n",
              " 0           -1.622635          -1.391129       0.668366  1.095127\n",
              " 1           -1.622635          -1.391129      -0.019406  1.095127\n",
              " 2           -1.622635          -1.391129      -0.707177  1.095127\n",
              " 3           -1.622635          -1.391129      -1.394948  1.095127\n",
              " 4           -1.622635          -1.391129      -2.082720  1.095127,\n",
              "    Capacity  InputPower  FirstTopHead  SecondTopHead  1stCompHead  2ndCompHead\n",
              " 0     543.8      274.61        1664.8         1155.8       1072.7        136.3\n",
              " 1     479.5      224.12        1585.0         1100.4       1016.9        192.4\n",
              " 2     389.1      186.39        1550.7         1077.4        979.7        234.1\n",
              " 3     254.7      146.55        1512.2         1053.8        931.7        300.5\n",
              " 4      58.3       94.05        1095.8          771.2       1060.0        292.3)"
            ]
          },
          "metadata": {
            "tags": []
          },
          "execution_count": 131
        }
      ]
    },
    {
      "cell_type": "code",
      "metadata": {
        "scrolled": true,
        "id": "Rsk67Nco3Cfv"
      },
      "source": [
        "from sklearn.model_selection import train_test_split\n",
        "from keras import layers\n",
        "from keras import models\n",
        "from keras.callbacks import EarlyStopping\n",
        "from keras.callbacks import ModelCheckpoint"
      ],
      "execution_count": 132,
      "outputs": []
    },
    {
      "cell_type": "code",
      "metadata": {
        "id": "7SUt4zeG3Cfv"
      },
      "source": [
        "early_stopping = EarlyStopping(monitor='val_loss', patience=5, verbose=1)\n",
        "# monitor='val_loss' : validation set 의 loss 를 monitoring 한다\n",
        "# mode='min' : performance measure를 최소화 시킴, default는 'auto'\n",
        "# verbose=1 : 언제 keras 에서 training 을 멈추었는지를 화면에 출력\n",
        "\n",
        "# mc = ModelCheckpoint('best_model.h5', monitor='val_acc', mode='min', save_best_only=True)\n",
        "# Early stopping 객체에 의해 트레이닝이 중지되었을 때 그 상태는 이전 모ㅔㄹ에 비해 일반적으로\n",
        "# validation error가 높은 상이일 것이다. 따라사 중지된 상태가 최고의 모델이 아닐 것이다.\n",
        "# 가장 validation performance가 좋은 모델을 저장하기 위해 keras에서는 ModelCheckpoint 객체가 존재"
      ],
      "execution_count": 133,
      "outputs": []
    },
    {
      "cell_type": "code",
      "metadata": {
        "id": "v7c7Wlpb3Cfw",
        "colab": {
          "base_uri": "https://localhost:8080/"
        },
        "outputId": "aac06ed5-7b60-4cfc-cd0f-652f3d1c6c55"
      },
      "source": [
        "X_train, X_test, y_train, y_test = train_test_split(X, y, test_size = 0.3, random_state=9)    ################\n",
        "model = models.Sequential()\n",
        "model.add(layers.Dense(50, activation='relu', input_shape = (4,)))    # 스케일링 할 것  x\n",
        "#model.add(layers.BatchNormalization())\n",
        "model.add(layers.Dense(50, activation='relu'))\n",
        "# model.add(layers.Dense(150, activation='relu'))\n",
        "# model.add(layers.Dense(100, activation='relu'))\n",
        "#model.add(layers.BatchNormalization())\n",
        "#model.add(layers.Dropout(0.2))\n",
        "model.add(layers.Dense(6, activation='linear'))    # activation='linear'  디폴트값임\n",
        "model.summary()\n",
        "# 안되면 레이어 추가할 것"
      ],
      "execution_count": 134,
      "outputs": [
        {
          "output_type": "stream",
          "text": [
            "Model: \"sequential_9\"\n",
            "_________________________________________________________________\n",
            "Layer (type)                 Output Shape              Param #   \n",
            "=================================================================\n",
            "dense_42 (Dense)             (None, 50)                250       \n",
            "_________________________________________________________________\n",
            "dense_43 (Dense)             (None, 50)                2550      \n",
            "_________________________________________________________________\n",
            "dense_44 (Dense)             (None, 6)                 306       \n",
            "=================================================================\n",
            "Total params: 3,106\n",
            "Trainable params: 3,106\n",
            "Non-trainable params: 0\n",
            "_________________________________________________________________\n"
          ],
          "name": "stdout"
        }
      ]
    },
    {
      "cell_type": "code",
      "metadata": {
        "id": "2WRP08eL3Cfw",
        "colab": {
          "base_uri": "https://localhost:8080/"
        },
        "outputId": "3a749c6e-19d1-4e6b-d0f6-13692297a5a3"
      },
      "source": [
        "model.compile(optimizer= 'adam', loss = 'mean_squared_error')\n",
        "history = model.fit(X_train, y_train, epochs=100, batch_size=20, verbose=1, validation_split = 0.2, callbacks=[early_stopping])    # early stopping   5정도 적용  5~10"
      ],
      "execution_count": 151,
      "outputs": [
        {
          "output_type": "stream",
          "text": [
            "Epoch 1/100\n",
            "43/43 [==============================] - 1s 9ms/step - loss: 40.3416 - val_loss: 40.6465\n",
            "Epoch 2/100\n",
            "43/43 [==============================] - 0s 2ms/step - loss: 40.8882 - val_loss: 43.4106\n",
            "Epoch 3/100\n",
            "43/43 [==============================] - 0s 2ms/step - loss: 35.6636 - val_loss: 41.6686\n",
            "Epoch 4/100\n",
            "43/43 [==============================] - 0s 2ms/step - loss: 34.9860 - val_loss: 41.0483\n",
            "Epoch 5/100\n",
            "43/43 [==============================] - 0s 2ms/step - loss: 38.4444 - val_loss: 42.6115\n",
            "Epoch 6/100\n",
            "43/43 [==============================] - 0s 2ms/step - loss: 38.8640 - val_loss: 40.9114\n",
            "Epoch 00006: early stopping\n"
          ],
          "name": "stdout"
        }
      ]
    },
    {
      "cell_type": "code",
      "metadata": {
        "scrolled": true,
        "id": "kesUrwoV3Cfw",
        "colab": {
          "base_uri": "https://localhost:8080/"
        },
        "outputId": "28b74e06-c1fc-4480-b593-f5f19637159a"
      },
      "source": [
        "X_test.shape"
      ],
      "execution_count": 144,
      "outputs": [
        {
          "output_type": "execute_result",
          "data": {
            "text/plain": [
              "(458, 4)"
            ]
          },
          "metadata": {
            "tags": []
          },
          "execution_count": 144
        }
      ]
    },
    {
      "cell_type": "code",
      "metadata": {
        "id": "s96l2G253Cfx",
        "colab": {
          "base_uri": "https://localhost:8080/"
        },
        "outputId": "dfc51ab9-d003-4f51-d3a3-4a2fe864f469"
      },
      "source": [
        "model.predict(X_test[:10])"
      ],
      "execution_count": 145,
      "outputs": [
        {
          "output_type": "execute_result",
          "data": {
            "text/plain": [
              "array([[ 464.22577 ,  267.41492 , 1244.568   ,  866.9246  , 1176.6056  ,\n",
              "         773.68884 ],\n",
              "       [ 547.89276 ,  247.07257 , 1225.1542  ,  863.1039  , 1032.5818  ,\n",
              "         520.07153 ],\n",
              "       [ 150.50761 ,  183.08116 , 1521.5394  , 1052.407   , 1439.63    ,\n",
              "        1014.4547  ],\n",
              "       [ 482.17957 ,  297.3209  , 1401.2145  ,  982.2778  , 1269.0104  ,\n",
              "         820.3218  ],\n",
              "       [ 444.02994 ,  184.01286 , 1352.9452  ,  946.67175 ,  935.2694  ,\n",
              "         203.09508 ],\n",
              "       [ 634.81244 ,  361.66736 , 1737.7975  , 1208.111   , 1165.2314  ,\n",
              "         257.07114 ],\n",
              "       [  73.29917 ,  125.038605, 1107.8948  ,  776.2876  , 1062.2092  ,\n",
              "         302.92325 ],\n",
              "       [ 361.8861  ,  141.60109 , 1088.7869  ,  767.6657  ,  814.1637  ,\n",
              "         264.92365 ],\n",
              "       [ 479.18988 ,  230.52861 , 1345.729   ,  943.7669  , 1054.6139  ,\n",
              "         506.26688 ],\n",
              "       [ 294.7166  ,  200.23361 , 1508.948   , 1050.3988  , 1036.37    ,\n",
              "         495.8389  ]], dtype=float32)"
            ]
          },
          "metadata": {
            "tags": []
          },
          "execution_count": 145
        }
      ]
    },
    {
      "cell_type": "code",
      "metadata": {
        "scrolled": true,
        "id": "ZmfB8q2g3Cfx",
        "colab": {
          "base_uri": "https://localhost:8080/"
        },
        "outputId": "f020023c-300d-4a8f-b335-d4cd8dee2175"
      },
      "source": [
        "y_test.shape"
      ],
      "execution_count": 146,
      "outputs": [
        {
          "output_type": "execute_result",
          "data": {
            "text/plain": [
              "(458, 6)"
            ]
          },
          "metadata": {
            "tags": []
          },
          "execution_count": 146
        }
      ]
    },
    {
      "cell_type": "code",
      "metadata": {
        "id": "ISdK2dn13Cfx"
      },
      "source": [
        "import pandas as pd\n",
        "y_pred = model.predict(X_test)     # ravel 삭제"
      ],
      "execution_count": 147,
      "outputs": []
    },
    {
      "cell_type": "code",
      "metadata": {
        "id": "3iDsLirV3Cfy",
        "colab": {
          "base_uri": "https://localhost:8080/"
        },
        "outputId": "a74a3bda-7c29-46a8-8eb2-4ba94b8c701d"
      },
      "source": [
        "y_pred.shape"
      ],
      "execution_count": 148,
      "outputs": [
        {
          "output_type": "execute_result",
          "data": {
            "text/plain": [
              "(458, 6)"
            ]
          },
          "metadata": {
            "tags": []
          },
          "execution_count": 148
        }
      ]
    },
    {
      "cell_type": "code",
      "metadata": {
        "id": "TycQb8Ix3Cfy",
        "colab": {
          "base_uri": "https://localhost:8080/"
        },
        "outputId": "732e8958-f08e-43db-a3e3-18399f3281c5"
      },
      "source": [
        "y_test.shape"
      ],
      "execution_count": 149,
      "outputs": [
        {
          "output_type": "execute_result",
          "data": {
            "text/plain": [
              "(458, 6)"
            ]
          },
          "metadata": {
            "tags": []
          },
          "execution_count": 149
        }
      ]
    },
    {
      "cell_type": "code",
      "metadata": {
        "id": "zqK8A75B4Nbo",
        "colab": {
          "base_uri": "https://localhost:8080/"
        },
        "outputId": "416ae58a-1235-488e-b740-965599f18a59"
      },
      "source": [
        "from sklearn.metrics import r2_score\n",
        "r2_score(y_test, y_pred)     # 학습 부족    # 학습 과대 "
      ],
      "execution_count": 150,
      "outputs": [
        {
          "output_type": "execute_result",
          "data": {
            "text/plain": [
              "0.9984053684943298"
            ]
          },
          "metadata": {
            "tags": []
          },
          "execution_count": 150
        }
      ]
    }
  ]
}